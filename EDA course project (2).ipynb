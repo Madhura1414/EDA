{
 "cells": [
  {
   "cell_type": "markdown",
   "id": "4614b004",
   "metadata": {},
   "source": [
    "# EXPLORATORY DATA  ANALYSIS     \n"
   ]
  },
  {
   "cell_type": "markdown",
   "id": "69567691",
   "metadata": {},
   "source": [
    "### Team Id        : 09\n",
    "### Sem              : 4th\n",
    "### Div                : D\n",
    "### Dept              : Computer Science\n",
    "### Project Title : Relapsed patients data analysis\n",
    "### Team Leader: Pragathi Pujari  \n"
   ]
  },
  {
   "cell_type": "code",
   "execution_count": 3,
   "id": "20fb961a",
   "metadata": {},
   "outputs": [
    {
     "data": {
      "text/html": [
       "<style type=\"text/css\">\n",
       "</style>\n",
       "<table id=\"T_9768d_\">\n",
       "  <caption>Team Member's Details:</caption>\n",
       "  <thead>\n",
       "    <tr>\n",
       "      <th class=\"blank level0\" >&nbsp;</th>\n",
       "      <th class=\"col_heading level0 col0\" >Sl No</th>\n",
       "      <th class=\"col_heading level0 col1\" >Name</th>\n",
       "      <th class=\"col_heading level0 col2\" >Roll No</th>\n",
       "      <th class=\"col_heading level0 col3\" >USN</th>\n",
       "    </tr>\n",
       "  </thead>\n",
       "  <tbody>\n",
       "    <tr>\n",
       "      <th id=\"T_9768d_level0_row0\" class=\"row_heading level0 row0\" >0</th>\n",
       "      <td id=\"T_9768d_row0_col0\" class=\"data row0 col0\" >1</td>\n",
       "      <td id=\"T_9768d_row0_col1\" class=\"data row0 col1\" >Lavanya Shahapur</td>\n",
       "      <td id=\"T_9768d_row0_col2\" class=\"data row0 col2\" >401</td>\n",
       "      <td id=\"T_9768d_row0_col3\" class=\"data row0 col3\" >01FE20BCS185</td>\n",
       "    </tr>\n",
       "    <tr>\n",
       "      <th id=\"T_9768d_level0_row1\" class=\"row_heading level0 row1\" >1</th>\n",
       "      <td id=\"T_9768d_row1_col0\" class=\"data row1 col0\" >2</td>\n",
       "      <td id=\"T_9768d_row1_col1\" class=\"data row1 col1\" >Sindhu Bhat</td>\n",
       "      <td id=\"T_9768d_row1_col2\" class=\"data row1 col2\" >402</td>\n",
       "      <td id=\"T_9768d_row1_col3\" class=\"data row1 col3\" >01FE20BCS186</td>\n",
       "    </tr>\n",
       "    <tr>\n",
       "      <th id=\"T_9768d_level0_row2\" class=\"row_heading level0 row2\" >2</th>\n",
       "      <td id=\"T_9768d_row2_col0\" class=\"data row2 col0\" >3</td>\n",
       "      <td id=\"T_9768d_row2_col1\" class=\"data row2 col1\" >Madhura Patil</td>\n",
       "      <td id=\"T_9768d_row2_col2\" class=\"data row2 col2\" >403</td>\n",
       "      <td id=\"T_9768d_row2_col3\" class=\"data row2 col3\" >01FE20BCS187</td>\n",
       "    </tr>\n",
       "    <tr>\n",
       "      <th id=\"T_9768d_level0_row3\" class=\"row_heading level0 row3\" >3</th>\n",
       "      <td id=\"T_9768d_row3_col0\" class=\"data row3 col0\" >4</td>\n",
       "      <td id=\"T_9768d_row3_col1\" class=\"data row3 col1\" >Pragathi Pujari</td>\n",
       "      <td id=\"T_9768d_row3_col2\" class=\"data row3 col2\" >405</td>\n",
       "      <td id=\"T_9768d_row3_col3\" class=\"data row3 col3\" >01FE20BCS189</td>\n",
       "    </tr>\n",
       "  </tbody>\n",
       "</table>\n"
      ],
      "text/plain": [
       "<pandas.io.formats.style.Styler at 0x8ac5fa0>"
      ]
     },
     "execution_count": 3,
     "metadata": {},
     "output_type": "execute_result"
    }
   ],
   "source": [
    "df={'Sl No':[1,2,3,4],'Name':['Lavanya Shahapur','Sindhu Bhat', 'Madhura Patil','Pragathi Pujari'], 'Roll No':[401,402,403,405],\n",
    "   'USN':['01FE20BCS185','01FE20BCS186','01FE20BCS187','01FE20BCS189']}\n",
    "df=pd.DataFrame(df)\n",
    "df.style.set_caption(\"Team Member's Details:\")\n",
    "\n"
   ]
  },
  {
   "cell_type": "code",
   "execution_count": 2,
   "id": "7613ba2c",
   "metadata": {},
   "outputs": [],
   "source": [
    "import numpy as np\n",
    "import pandas as pd\n",
    "import matplotlib.pyplot as plt\n",
    "import seaborn as sns\n",
    "import os"
   ]
  },
  {
   "cell_type": "code",
   "execution_count": 63,
   "id": "4ccc7508",
   "metadata": {
    "scrolled": true
   },
   "outputs": [
    {
     "data": {
      "text/html": [
       "<div>\n",
       "<style scoped>\n",
       "    .dataframe tbody tr th:only-of-type {\n",
       "        vertical-align: middle;\n",
       "    }\n",
       "\n",
       "    .dataframe tbody tr th {\n",
       "        vertical-align: top;\n",
       "    }\n",
       "\n",
       "    .dataframe thead th {\n",
       "        text-align: right;\n",
       "    }\n",
       "</style>\n",
       "<table border=\"1\" class=\"dataframe\">\n",
       "  <thead>\n",
       "    <tr style=\"text-align: right;\">\n",
       "      <th></th>\n",
       "      <th>S.No</th>\n",
       "      <th>Age</th>\n",
       "      <th>Sex</th>\n",
       "      <th>Education in year</th>\n",
       "      <th>Occupation</th>\n",
       "      <th>Annual Income</th>\n",
       "      <th>Marital Status</th>\n",
       "      <th>Living arrangement</th>\n",
       "      <th>Referral</th>\n",
       "      <th>Alcohol</th>\n",
       "      <th>...</th>\n",
       "      <th>DSM5CCQn15</th>\n",
       "      <th>DSM5CCQn16</th>\n",
       "      <th>DSM5CCQn17</th>\n",
       "      <th>DSM5CCQn18</th>\n",
       "      <th>DSM5CCQn19</th>\n",
       "      <th>DSM5CCQn20</th>\n",
       "      <th>DSM5CCQn21</th>\n",
       "      <th>DSM5CCQn22</th>\n",
       "      <th>DSM5CCQn23</th>\n",
       "      <th>Unnamed: 201</th>\n",
       "    </tr>\n",
       "  </thead>\n",
       "  <tbody>\n",
       "    <tr>\n",
       "      <th>0</th>\n",
       "      <td>1</td>\n",
       "      <td>53</td>\n",
       "      <td>Male</td>\n",
       "      <td>BE</td>\n",
       "      <td>Contractor</td>\n",
       "      <td>5 Lakh</td>\n",
       "      <td>Yes</td>\n",
       "      <td>Family</td>\n",
       "      <td>Nava Jeevan Samithi Member</td>\n",
       "      <td>Wiskhy</td>\n",
       "      <td>...</td>\n",
       "      <td>3</td>\n",
       "      <td>4</td>\n",
       "      <td>0</td>\n",
       "      <td>3</td>\n",
       "      <td>4</td>\n",
       "      <td>4</td>\n",
       "      <td>4</td>\n",
       "      <td>4</td>\n",
       "      <td>0</td>\n",
       "      <td>NaN</td>\n",
       "    </tr>\n",
       "    <tr>\n",
       "      <th>1</th>\n",
       "      <td>2</td>\n",
       "      <td>31</td>\n",
       "      <td>Male</td>\n",
       "      <td>S.S.L.C</td>\n",
       "      <td>Machine Operator</td>\n",
       "      <td>1,20,000/-</td>\n",
       "      <td>No</td>\n",
       "      <td>Friends</td>\n",
       "      <td>SKDRDP</td>\n",
       "      <td>Any</td>\n",
       "      <td>...</td>\n",
       "      <td>2</td>\n",
       "      <td>1</td>\n",
       "      <td>1</td>\n",
       "      <td>0</td>\n",
       "      <td>0</td>\n",
       "      <td>0</td>\n",
       "      <td>3</td>\n",
       "      <td>2</td>\n",
       "      <td>0</td>\n",
       "      <td>NaN</td>\n",
       "    </tr>\n",
       "    <tr>\n",
       "      <th>2</th>\n",
       "      <td>3</td>\n",
       "      <td>37</td>\n",
       "      <td>Male</td>\n",
       "      <td>M.B.A</td>\n",
       "      <td>Company</td>\n",
       "      <td>3,00,000/-</td>\n",
       "      <td>Yes</td>\n",
       "      <td>Family</td>\n",
       "      <td>Doctors</td>\n",
       "      <td>Wiskey</td>\n",
       "      <td>...</td>\n",
       "      <td>0</td>\n",
       "      <td>1</td>\n",
       "      <td>2</td>\n",
       "      <td>3</td>\n",
       "      <td>3</td>\n",
       "      <td>4</td>\n",
       "      <td>4</td>\n",
       "      <td>0</td>\n",
       "      <td>2</td>\n",
       "      <td>NaN</td>\n",
       "    </tr>\n",
       "    <tr>\n",
       "      <th>3</th>\n",
       "      <td>4</td>\n",
       "      <td>38</td>\n",
       "      <td>Male</td>\n",
       "      <td>6th</td>\n",
       "      <td>Cooly</td>\n",
       "      <td>50000</td>\n",
       "      <td>Yes</td>\n",
       "      <td>Family</td>\n",
       "      <td>Wife</td>\n",
       "      <td>Orley</td>\n",
       "      <td>...</td>\n",
       "      <td>0</td>\n",
       "      <td>0</td>\n",
       "      <td>2</td>\n",
       "      <td>2</td>\n",
       "      <td>1</td>\n",
       "      <td>0</td>\n",
       "      <td>0</td>\n",
       "      <td>3</td>\n",
       "      <td>3</td>\n",
       "      <td>0.0</td>\n",
       "    </tr>\n",
       "    <tr>\n",
       "      <th>4</th>\n",
       "      <td>5</td>\n",
       "      <td>42</td>\n",
       "      <td>Male</td>\n",
       "      <td>10th</td>\n",
       "      <td>Police</td>\n",
       "      <td>30000</td>\n",
       "      <td>Yes</td>\n",
       "      <td>Family</td>\n",
       "      <td>Police Department</td>\n",
       "      <td>Whisky</td>\n",
       "      <td>...</td>\n",
       "      <td>0</td>\n",
       "      <td>0</td>\n",
       "      <td>1</td>\n",
       "      <td>1</td>\n",
       "      <td>3</td>\n",
       "      <td>0</td>\n",
       "      <td>0</td>\n",
       "      <td>4</td>\n",
       "      <td>4</td>\n",
       "      <td>0.0</td>\n",
       "    </tr>\n",
       "  </tbody>\n",
       "</table>\n",
       "<p>5 rows × 202 columns</p>\n",
       "</div>"
      ],
      "text/plain": [
       "   S.No  Age   Sex Education in year        Occupation Annual Income  \\\n",
       "0     1   53  Male                BE        Contractor        5 Lakh   \n",
       "1     2   31  Male           S.S.L.C  Machine Operator    1,20,000/-   \n",
       "2     3   37  Male             M.B.A           Company    3,00,000/-   \n",
       "3     4   38  Male               6th             Cooly         50000   \n",
       "4     5   42  Male              10th            Police         30000   \n",
       "\n",
       "  Marital Status Living arrangement                    Referral Alcohol  ...  \\\n",
       "0            Yes             Family  Nava Jeevan Samithi Member  Wiskhy  ...   \n",
       "1             No            Friends                      SKDRDP     Any  ...   \n",
       "2            Yes             Family                     Doctors  Wiskey  ...   \n",
       "3            Yes             Family                        Wife   Orley  ...   \n",
       "4            Yes             Family           Police Department  Whisky  ...   \n",
       "\n",
       "  DSM5CCQn15 DSM5CCQn16 DSM5CCQn17 DSM5CCQn18 DSM5CCQn19 DSM5CCQn20  \\\n",
       "0          3          4          0          3          4          4   \n",
       "1          2          1          1          0          0          0   \n",
       "2          0          1          2          3          3          4   \n",
       "3          0          0          2          2          1          0   \n",
       "4          0          0          1          1          3          0   \n",
       "\n",
       "  DSM5CCQn21 DSM5CCQn22 DSM5CCQn23 Unnamed: 201  \n",
       "0          4          4          0          NaN  \n",
       "1          3          2          0          NaN  \n",
       "2          4          0          2          NaN  \n",
       "3          0          3          3          0.0  \n",
       "4          0          4          4          0.0  \n",
       "\n",
       "[5 rows x 202 columns]"
      ]
     },
     "execution_count": 63,
     "metadata": {},
     "output_type": "execute_result"
    }
   ],
   "source": [
    "data=pd.read_excel(\"Copy of Relapse_Patient_Details_Unprocessed.xlsx\")\n",
    "data.head()\n",
    "\n"
   ]
  },
  {
   "cell_type": "code",
   "execution_count": 6,
   "id": "47432820",
   "metadata": {
    "scrolled": false
   },
   "outputs": [
    {
     "data": {
      "text/plain": [
       "<bound method NDFrame.describe of     S.No  Age   Sex Education in year        Occupation Annual Income  \\\n",
       "0      1   53  Male                BE        Contractor        5 Lakh   \n",
       "1      2   31  Male           S.S.L.C  Machine Operator    1,20,000/-   \n",
       "2      3   37  Male             M.B.A           Company    3,00,000/-   \n",
       "3      4   38  Male               6th             Cooly         50000   \n",
       "4      5   42  Male              10th            Police         30000   \n",
       "..   ...  ...   ...               ...               ...           ...   \n",
       "84    85   40  Male           S.S.L.C       Agricultuer      30,000/-   \n",
       "85    86   37  Male               PUC          Buisness      30,000/-   \n",
       "86    87   25  Male             B.Com           Student           Nil   \n",
       "87    88   53  Male               PUC      Govt Teacher        500000   \n",
       "88    89   39  Male           S.S.L.C      Hair Dresses         25000   \n",
       "\n",
       "   Marital Status Living arrangement                     Referral Alcohol  \\\n",
       "0             Yes             Family   Nava Jeevan Samithi Member  Wiskhy   \n",
       "1              No            Friends                       SKDRDP     Any   \n",
       "2             Yes             Family                      Doctors  Wiskey   \n",
       "3             Yes             Family                         Wife   Orley   \n",
       "4             Yes             Family            Police Department  Whisky   \n",
       "..            ...                ...                          ...     ...   \n",
       "84            Yes             Family  Nava Jeevana Samithi Member     Any   \n",
       "85             No             Family  Nava Jeevana Samithi Member  Wiskey   \n",
       "86             No             Family  Nava Jeevana Samithi member  Choice   \n",
       "87            Yes             Family   Navajeevana samithi Member  Wiskey   \n",
       "88            Yes             Family   Navajeevana samithi Member     M H   \n",
       "\n",
       "    ... DSM5CCQn15 DSM5CCQn16 DSM5CCQn17 DSM5CCQn18 DSM5CCQn19 DSM5CCQn20  \\\n",
       "0   ...          3          4          0          3          4          4   \n",
       "1   ...          2          1          1          0          0          0   \n",
       "2   ...          0          1          2          3          3          4   \n",
       "3   ...          0          0          2          2          1          0   \n",
       "4   ...          0          0          1          1          3          0   \n",
       "..  ...        ...        ...        ...        ...        ...        ...   \n",
       "84  ...          0          3          3          0          0          0   \n",
       "85  ...          0          3          0          0          0          2   \n",
       "86  ...          0          2          1          0          0          1   \n",
       "87  ...          0          0          0          0          0          0   \n",
       "88  ...          0          0          2          0          1          2   \n",
       "\n",
       "   DSM5CCQn21 DSM5CCQn22 DSM5CCQn23 Unnamed: 201  \n",
       "0           4          4          0          NaN  \n",
       "1           3          2          0          NaN  \n",
       "2           4          0          2          NaN  \n",
       "3           0          3          3          0.0  \n",
       "4           0          4          4          0.0  \n",
       "..        ...        ...        ...          ...  \n",
       "84          4          4          0          NaN  \n",
       "85          4          4          0          NaN  \n",
       "86          4          4          0          NaN  \n",
       "87          4          4          0          NaN  \n",
       "88          4          4          0          NaN  \n",
       "\n",
       "[89 rows x 202 columns]>"
      ]
     },
     "execution_count": 6,
     "metadata": {},
     "output_type": "execute_result"
    }
   ],
   "source": [
    "data.describe"
   ]
  },
  {
   "cell_type": "code",
   "execution_count": 7,
   "id": "f1ef54f9",
   "metadata": {},
   "outputs": [
    {
     "name": "stdout",
     "output_type": "stream",
     "text": [
      "NAN in row 1  :  6\n",
      "NAN in row 2  :  6\n",
      "NAN in row 3  :  10\n",
      "NAN in row 4  :  6\n",
      "NAN in row 5  :  6\n",
      "NAN in row 6  :  6\n",
      "NAN in row 7  :  6\n",
      "NAN in row 8  :  6\n",
      "NAN in row 9  :  6\n",
      "NAN in row 10  :  6\n",
      "NAN in row 11  :  6\n",
      "NAN in row 12  :  6\n",
      "NAN in row 13  :  6\n",
      "NAN in row 14  :  6\n",
      "NAN in row 15  :  6\n",
      "NAN in row 16  :  6\n",
      "NAN in row 17  :  6\n",
      "NAN in row 18  :  6\n",
      "NAN in row 19  :  6\n",
      "NAN in row 20  :  6\n",
      "NAN in row 21  :  6\n",
      "NAN in row 22  :  6\n",
      "NAN in row 23  :  6\n",
      "NAN in row 24  :  6\n",
      "NAN in row 25  :  6\n",
      "NAN in row 26  :  6\n",
      "NAN in row 27  :  7\n",
      "NAN in row 28  :  6\n",
      "NAN in row 29  :  6\n",
      "NAN in row 30  :  6\n",
      "NAN in row 31  :  6\n",
      "NAN in row 32  :  6\n",
      "NAN in row 33  :  6\n",
      "NAN in row 34  :  6\n",
      "NAN in row 35  :  6\n",
      "NAN in row 36  :  6\n",
      "NAN in row 37  :  6\n",
      "NAN in row 38  :  6\n",
      "NAN in row 39  :  6\n",
      "NAN in row 40  :  6\n",
      "NAN in row 41  :  6\n",
      "NAN in row 42  :  6\n",
      "NAN in row 43  :  6\n",
      "NAN in row 44  :  6\n",
      "NAN in row 45  :  6\n",
      "NAN in row 46  :  1\n",
      "NAN in row 47  :  1\n",
      "NAN in row 48  :  9\n",
      "NAN in row 49  :  1\n",
      "NAN in row 50  :  1\n",
      "NAN in row 51  :  1\n",
      "NAN in row 52  :  1\n",
      "NAN in row 53  :  1\n",
      "NAN in row 54  :  1\n",
      "NAN in row 55  :  1\n",
      "NAN in row 56  :  1\n",
      "NAN in row 57  :  1\n",
      "NAN in row 58  :  1\n",
      "NAN in row 59  :  1\n",
      "NAN in row 60  :  1\n",
      "NAN in row 61  :  1\n",
      "NAN in row 62  :  1\n",
      "NAN in row 63  :  1\n",
      "NAN in row 64  :  1\n",
      "NAN in row 65  :  9\n",
      "NAN in row 66  :  9\n",
      "NAN in row 67  :  9\n",
      "NAN in row 68  :  9\n",
      "NAN in row 69  :  10\n",
      "NAN in row 70  :  9\n",
      "NAN in row 71  :  9\n",
      "NAN in row 72  :  9\n",
      "NAN in row 73  :  9\n",
      "NAN in row 74  :  9\n",
      "NAN in row 75  :  9\n",
      "NAN in row 76  :  9\n",
      "NAN in row 77  :  9\n",
      "NAN in row 78  :  9\n",
      "NAN in row 79  :  12\n",
      "NAN in row 80  :  9\n",
      "NAN in row 81  :  10\n",
      "NAN in row 82  :  10\n",
      "NAN in row 83  :  10\n",
      "NAN in row 84  :  10\n",
      "NAN in row 85  :  10\n",
      "NAN in row 86  :  10\n",
      "NAN in row 87  :  10\n",
      "NAN in row 88  :  10\n",
      "NAN in row 89  :  11\n"
     ]
    }
   ],
   "source": [
    "#nan values in each row\n",
    "for i in range(len(data.index)):\n",
    "    print(\"NAN in row\", i+1 , \" : \",data.iloc[i].isnull().sum())"
   ]
  },
  {
   "cell_type": "code",
   "execution_count": 8,
   "id": "5564717f",
   "metadata": {},
   "outputs": [
    {
     "name": "stdout",
     "output_type": "stream",
     "text": [
      "There are 89 rows and 202 columns.\n"
     ]
    }
   ],
   "source": [
    "data.shape\n",
    "print('There are '+str(data.shape[0])+' rows and '+ str(data.shape[1]) + ' columns.')"
   ]
  },
  {
   "cell_type": "code",
   "execution_count": 9,
   "id": "4868d593",
   "metadata": {},
   "outputs": [
    {
     "data": {
      "text/plain": [
       "33    6\n",
       "41    6\n",
       "38    5\n",
       "42    5\n",
       "45    4\n",
       "37    4\n",
       "34    4\n",
       "46    4\n",
       "40    4\n",
       "36    4\n",
       "47    3\n",
       "43    3\n",
       "39    3\n",
       "53    3\n",
       "30    3\n",
       "50    3\n",
       "48    2\n",
       "25    2\n",
       "35    2\n",
       "49    2\n",
       "44    2\n",
       "27    2\n",
       "31    2\n",
       "26    2\n",
       "32    2\n",
       "61    1\n",
       "28    1\n",
       "62    1\n",
       "23    1\n",
       "59    1\n",
       "29    1\n",
       "56    1\n",
       "Name: Age, dtype: int64"
      ]
     },
     "execution_count": 9,
     "metadata": {},
     "output_type": "execute_result"
    }
   ],
   "source": [
    "a=data['Age'].value_counts()\n",
    "a"
   ]
  },
  {
   "cell_type": "code",
   "execution_count": 10,
   "id": "b82507ae",
   "metadata": {},
   "outputs": [
    {
     "data": {
      "text/html": [
       "<div>\n",
       "<style scoped>\n",
       "    .dataframe tbody tr th:only-of-type {\n",
       "        vertical-align: middle;\n",
       "    }\n",
       "\n",
       "    .dataframe tbody tr th {\n",
       "        vertical-align: top;\n",
       "    }\n",
       "\n",
       "    .dataframe thead th {\n",
       "        text-align: right;\n",
       "    }\n",
       "</style>\n",
       "<table border=\"1\" class=\"dataframe\">\n",
       "  <thead>\n",
       "    <tr style=\"text-align: right;\">\n",
       "      <th></th>\n",
       "      <th>S.No</th>\n",
       "      <th>Age</th>\n",
       "      <th>Sex</th>\n",
       "      <th>Education in year</th>\n",
       "      <th>Occupation</th>\n",
       "      <th>Annual Income</th>\n",
       "      <th>Marital Status</th>\n",
       "      <th>Living arrangement</th>\n",
       "      <th>Referral</th>\n",
       "      <th>Alcohol</th>\n",
       "      <th>...</th>\n",
       "      <th>DSM5CCQn16</th>\n",
       "      <th>DSM5CCQn17</th>\n",
       "      <th>DSM5CCQn18</th>\n",
       "      <th>DSM5CCQn19</th>\n",
       "      <th>DSM5CCQn20</th>\n",
       "      <th>DSM5CCQn21</th>\n",
       "      <th>DSM5CCQn22</th>\n",
       "      <th>DSM5CCQn23</th>\n",
       "      <th>Unnamed: 201</th>\n",
       "      <th>Age Group</th>\n",
       "    </tr>\n",
       "  </thead>\n",
       "  <tbody>\n",
       "    <tr>\n",
       "      <th>0</th>\n",
       "      <td>1</td>\n",
       "      <td>53</td>\n",
       "      <td>Male</td>\n",
       "      <td>BE</td>\n",
       "      <td>Contractor</td>\n",
       "      <td>5 Lakh</td>\n",
       "      <td>Yes</td>\n",
       "      <td>Family</td>\n",
       "      <td>Nava Jeevan Samithi Member</td>\n",
       "      <td>Wiskhy</td>\n",
       "      <td>...</td>\n",
       "      <td>4</td>\n",
       "      <td>0</td>\n",
       "      <td>3</td>\n",
       "      <td>4</td>\n",
       "      <td>4</td>\n",
       "      <td>4</td>\n",
       "      <td>4</td>\n",
       "      <td>0</td>\n",
       "      <td>NaN</td>\n",
       "      <td>Adult</td>\n",
       "    </tr>\n",
       "    <tr>\n",
       "      <th>1</th>\n",
       "      <td>2</td>\n",
       "      <td>31</td>\n",
       "      <td>Male</td>\n",
       "      <td>S.S.L.C</td>\n",
       "      <td>Machine Operator</td>\n",
       "      <td>1,20,000/-</td>\n",
       "      <td>No</td>\n",
       "      <td>Friends</td>\n",
       "      <td>SKDRDP</td>\n",
       "      <td>Any</td>\n",
       "      <td>...</td>\n",
       "      <td>1</td>\n",
       "      <td>1</td>\n",
       "      <td>0</td>\n",
       "      <td>0</td>\n",
       "      <td>0</td>\n",
       "      <td>3</td>\n",
       "      <td>2</td>\n",
       "      <td>0</td>\n",
       "      <td>NaN</td>\n",
       "      <td>Adult</td>\n",
       "    </tr>\n",
       "    <tr>\n",
       "      <th>2</th>\n",
       "      <td>3</td>\n",
       "      <td>37</td>\n",
       "      <td>Male</td>\n",
       "      <td>M.B.A</td>\n",
       "      <td>Company</td>\n",
       "      <td>3,00,000/-</td>\n",
       "      <td>Yes</td>\n",
       "      <td>Family</td>\n",
       "      <td>Doctors</td>\n",
       "      <td>Wiskey</td>\n",
       "      <td>...</td>\n",
       "      <td>1</td>\n",
       "      <td>2</td>\n",
       "      <td>3</td>\n",
       "      <td>3</td>\n",
       "      <td>4</td>\n",
       "      <td>4</td>\n",
       "      <td>0</td>\n",
       "      <td>2</td>\n",
       "      <td>NaN</td>\n",
       "      <td>Adult</td>\n",
       "    </tr>\n",
       "    <tr>\n",
       "      <th>3</th>\n",
       "      <td>4</td>\n",
       "      <td>38</td>\n",
       "      <td>Male</td>\n",
       "      <td>6th</td>\n",
       "      <td>Cooly</td>\n",
       "      <td>50000</td>\n",
       "      <td>Yes</td>\n",
       "      <td>Family</td>\n",
       "      <td>Wife</td>\n",
       "      <td>Orley</td>\n",
       "      <td>...</td>\n",
       "      <td>0</td>\n",
       "      <td>2</td>\n",
       "      <td>2</td>\n",
       "      <td>1</td>\n",
       "      <td>0</td>\n",
       "      <td>0</td>\n",
       "      <td>3</td>\n",
       "      <td>3</td>\n",
       "      <td>0.0</td>\n",
       "      <td>Adult</td>\n",
       "    </tr>\n",
       "    <tr>\n",
       "      <th>4</th>\n",
       "      <td>5</td>\n",
       "      <td>42</td>\n",
       "      <td>Male</td>\n",
       "      <td>10th</td>\n",
       "      <td>Police</td>\n",
       "      <td>30000</td>\n",
       "      <td>Yes</td>\n",
       "      <td>Family</td>\n",
       "      <td>Police Department</td>\n",
       "      <td>Whisky</td>\n",
       "      <td>...</td>\n",
       "      <td>0</td>\n",
       "      <td>1</td>\n",
       "      <td>1</td>\n",
       "      <td>3</td>\n",
       "      <td>0</td>\n",
       "      <td>0</td>\n",
       "      <td>4</td>\n",
       "      <td>4</td>\n",
       "      <td>0.0</td>\n",
       "      <td>Adult</td>\n",
       "    </tr>\n",
       "    <tr>\n",
       "      <th>5</th>\n",
       "      <td>6</td>\n",
       "      <td>33</td>\n",
       "      <td>Male</td>\n",
       "      <td>7th</td>\n",
       "      <td>Auto Driver</td>\n",
       "      <td>50000</td>\n",
       "      <td>Yes</td>\n",
       "      <td>Family</td>\n",
       "      <td>Nava Jeevana Samithi Member</td>\n",
       "      <td>MC/BP</td>\n",
       "      <td>...</td>\n",
       "      <td>0</td>\n",
       "      <td>3</td>\n",
       "      <td>0</td>\n",
       "      <td>0</td>\n",
       "      <td>0</td>\n",
       "      <td>0</td>\n",
       "      <td>4</td>\n",
       "      <td>0</td>\n",
       "      <td>0.0</td>\n",
       "      <td>Adult</td>\n",
       "    </tr>\n",
       "    <tr>\n",
       "      <th>6</th>\n",
       "      <td>7</td>\n",
       "      <td>53</td>\n",
       "      <td>Male</td>\n",
       "      <td>Diploma Engineering</td>\n",
       "      <td>Engineer</td>\n",
       "      <td>200000</td>\n",
       "      <td>Yes</td>\n",
       "      <td>Family</td>\n",
       "      <td>Friends/Through awarness programme</td>\n",
       "      <td>Whisky</td>\n",
       "      <td>...</td>\n",
       "      <td>0</td>\n",
       "      <td>0</td>\n",
       "      <td>2</td>\n",
       "      <td>0</td>\n",
       "      <td>0</td>\n",
       "      <td>0</td>\n",
       "      <td>4</td>\n",
       "      <td>4</td>\n",
       "      <td>3.0</td>\n",
       "      <td>Adult</td>\n",
       "    </tr>\n",
       "    <tr>\n",
       "      <th>7</th>\n",
       "      <td>8</td>\n",
       "      <td>41</td>\n",
       "      <td>Male</td>\n",
       "      <td>IIPUC</td>\n",
       "      <td>Agriculture</td>\n",
       "      <td>35000</td>\n",
       "      <td>Yes</td>\n",
       "      <td>Family</td>\n",
       "      <td>Familky</td>\n",
       "      <td>Vodka</td>\n",
       "      <td>...</td>\n",
       "      <td>0</td>\n",
       "      <td>2</td>\n",
       "      <td>4</td>\n",
       "      <td>0</td>\n",
       "      <td>0</td>\n",
       "      <td>0</td>\n",
       "      <td>4</td>\n",
       "      <td>4</td>\n",
       "      <td>3.0</td>\n",
       "      <td>Adult</td>\n",
       "    </tr>\n",
       "    <tr>\n",
       "      <th>8</th>\n",
       "      <td>9</td>\n",
       "      <td>34</td>\n",
       "      <td>Male</td>\n",
       "      <td>10th</td>\n",
       "      <td>Coolie</td>\n",
       "      <td>11000</td>\n",
       "      <td>No</td>\n",
       "      <td>Family</td>\n",
       "      <td>Family</td>\n",
       "      <td>Local Brandy</td>\n",
       "      <td>...</td>\n",
       "      <td>0</td>\n",
       "      <td>3</td>\n",
       "      <td>2</td>\n",
       "      <td>0</td>\n",
       "      <td>3</td>\n",
       "      <td>0</td>\n",
       "      <td>4</td>\n",
       "      <td>4</td>\n",
       "      <td>0.0</td>\n",
       "      <td>Adult</td>\n",
       "    </tr>\n",
       "    <tr>\n",
       "      <th>9</th>\n",
       "      <td>10</td>\n",
       "      <td>46</td>\n",
       "      <td>Male</td>\n",
       "      <td>PUC</td>\n",
       "      <td>S D A</td>\n",
       "      <td>350000</td>\n",
       "      <td>Yes</td>\n",
       "      <td>Family</td>\n",
       "      <td>Nava Jeevana Samithi Member</td>\n",
       "      <td>BP Whiskey</td>\n",
       "      <td>...</td>\n",
       "      <td>1</td>\n",
       "      <td>0</td>\n",
       "      <td>0</td>\n",
       "      <td>0</td>\n",
       "      <td>1</td>\n",
       "      <td>0</td>\n",
       "      <td>2</td>\n",
       "      <td>4</td>\n",
       "      <td>1.0</td>\n",
       "      <td>Adult</td>\n",
       "    </tr>\n",
       "  </tbody>\n",
       "</table>\n",
       "<p>10 rows × 203 columns</p>\n",
       "</div>"
      ],
      "text/plain": [
       "   S.No  Age   Sex    Education in year        Occupation Annual Income  \\\n",
       "0     1   53  Male                   BE        Contractor        5 Lakh   \n",
       "1     2   31  Male              S.S.L.C  Machine Operator    1,20,000/-   \n",
       "2     3   37  Male                M.B.A           Company    3,00,000/-   \n",
       "3     4   38  Male                  6th             Cooly         50000   \n",
       "4     5   42  Male                 10th            Police         30000   \n",
       "5     6   33  Male                  7th       Auto Driver         50000   \n",
       "6     7   53  Male  Diploma Engineering          Engineer        200000   \n",
       "7     8   41  Male                IIPUC       Agriculture         35000   \n",
       "8     9   34  Male                 10th            Coolie         11000   \n",
       "9    10   46  Male                  PUC             S D A        350000   \n",
       "\n",
       "  Marital Status Living arrangement                            Referral  \\\n",
       "0            Yes             Family          Nava Jeevan Samithi Member   \n",
       "1             No            Friends                              SKDRDP   \n",
       "2            Yes             Family                             Doctors   \n",
       "3            Yes             Family                                Wife   \n",
       "4            Yes             Family                   Police Department   \n",
       "5            Yes             Family         Nava Jeevana Samithi Member   \n",
       "6            Yes             Family  Friends/Through awarness programme   \n",
       "7            Yes             Family                             Familky   \n",
       "8             No             Family                              Family   \n",
       "9            Yes             Family         Nava Jeevana Samithi Member   \n",
       "\n",
       "        Alcohol  ... DSM5CCQn16 DSM5CCQn17 DSM5CCQn18 DSM5CCQn19 DSM5CCQn20  \\\n",
       "0        Wiskhy  ...          4          0          3          4          4   \n",
       "1           Any  ...          1          1          0          0          0   \n",
       "2        Wiskey  ...          1          2          3          3          4   \n",
       "3         Orley  ...          0          2          2          1          0   \n",
       "4        Whisky  ...          0          1          1          3          0   \n",
       "5         MC/BP  ...          0          3          0          0          0   \n",
       "6        Whisky  ...          0          0          2          0          0   \n",
       "7         Vodka  ...          0          2          4          0          0   \n",
       "8  Local Brandy  ...          0          3          2          0          3   \n",
       "9    BP Whiskey  ...          1          0          0          0          1   \n",
       "\n",
       "  DSM5CCQn21 DSM5CCQn22 DSM5CCQn23 Unnamed: 201 Age Group  \n",
       "0          4          4          0          NaN     Adult  \n",
       "1          3          2          0          NaN     Adult  \n",
       "2          4          0          2          NaN     Adult  \n",
       "3          0          3          3          0.0     Adult  \n",
       "4          0          4          4          0.0     Adult  \n",
       "5          0          4          0          0.0     Adult  \n",
       "6          0          4          4          3.0     Adult  \n",
       "7          0          4          4          3.0     Adult  \n",
       "8          0          4          4          0.0     Adult  \n",
       "9          0          2          4          1.0     Adult  \n",
       "\n",
       "[10 rows x 203 columns]"
      ]
     },
     "execution_count": 10,
     "metadata": {},
     "output_type": "execute_result"
    }
   ],
   "source": [
    "def get_age(age):\n",
    "    if(age<=18):\n",
    "        return \"Children\"\n",
    "    elif(age>18 and age<=30):\n",
    "        return \"Youth\"\n",
    "    elif(age>30 and age<=60):\n",
    "        return \"Adult\"\n",
    "    else:\n",
    "        return \"Senior\"\n",
    "    \n",
    "data['Age Group']=data['Age'].apply(lambda x:get_age(x))\n",
    "data.head(10)"
   ]
  },
  {
   "cell_type": "code",
   "execution_count": 11,
   "id": "c326ed7b",
   "metadata": {},
   "outputs": [
    {
     "data": {
      "text/plain": [
       "Adult     75\n",
       "Youth     12\n",
       "Senior     2\n",
       "Name: Age Group, dtype: int64"
      ]
     },
     "execution_count": 11,
     "metadata": {},
     "output_type": "execute_result"
    }
   ],
   "source": [
    "count=data['Age Group'].value_counts()\n",
    "count\n"
   ]
  },
  {
   "cell_type": "code",
   "execution_count": 12,
   "id": "bdd6b4f0",
   "metadata": {},
   "outputs": [
    {
     "data": {
      "text/plain": [
       "<matplotlib.legend.Legend at 0x59ec040>"
      ]
     },
     "execution_count": 12,
     "metadata": {},
     "output_type": "execute_result"
    },
    {
     "data": {
      "image/png": "[encoded data removed]",
      "text/plain": [
       "<Figure size 432x288 with 1 Axes>"
      ]
     },
     "metadata": {},
     "output_type": "display_data"
    }
   ],
   "source": [
    "count.plot(kind='pie',autopct=\"%1.2f%%\")\n",
    "plt.legend(title='Age Group')"
   ]
  },
  {
   "cell_type": "code",
   "execution_count": 13,
   "id": "4cfc7a04",
   "metadata": {},
   "outputs": [
    {
     "data": {
      "text/html": [
       "<div>\n",
       "<style scoped>\n",
       "    .dataframe tbody tr th:only-of-type {\n",
       "        vertical-align: middle;\n",
       "    }\n",
       "\n",
       "    .dataframe tbody tr th {\n",
       "        vertical-align: top;\n",
       "    }\n",
       "\n",
       "    .dataframe thead th {\n",
       "        text-align: right;\n",
       "    }\n",
       "</style>\n",
       "<table border=\"1\" class=\"dataframe\">\n",
       "  <thead>\n",
       "    <tr style=\"text-align: right;\">\n",
       "      <th></th>\n",
       "      <th>S.No</th>\n",
       "      <th>Age</th>\n",
       "      <th>Sex</th>\n",
       "      <th>Education in year</th>\n",
       "      <th>Occupation</th>\n",
       "      <th>Annual Income</th>\n",
       "      <th>Marital Status</th>\n",
       "      <th>Living arrangement</th>\n",
       "      <th>Referral</th>\n",
       "      <th>Alcohol</th>\n",
       "      <th>...</th>\n",
       "      <th>DSM5CCQn16</th>\n",
       "      <th>DSM5CCQn17</th>\n",
       "      <th>DSM5CCQn18</th>\n",
       "      <th>DSM5CCQn19</th>\n",
       "      <th>DSM5CCQn20</th>\n",
       "      <th>DSM5CCQn21</th>\n",
       "      <th>DSM5CCQn22</th>\n",
       "      <th>DSM5CCQn23</th>\n",
       "      <th>Unnamed: 201</th>\n",
       "      <th>Age Group</th>\n",
       "    </tr>\n",
       "  </thead>\n",
       "  <tbody>\n",
       "    <tr>\n",
       "      <th>0</th>\n",
       "      <td>1</td>\n",
       "      <td>53</td>\n",
       "      <td>Male</td>\n",
       "      <td>BE</td>\n",
       "      <td>Contractor</td>\n",
       "      <td>5 Lakh</td>\n",
       "      <td>Yes</td>\n",
       "      <td>Family</td>\n",
       "      <td>Nava Jeevan Samithi Member</td>\n",
       "      <td>Wiskhy</td>\n",
       "      <td>...</td>\n",
       "      <td>4</td>\n",
       "      <td>0</td>\n",
       "      <td>3</td>\n",
       "      <td>4</td>\n",
       "      <td>4</td>\n",
       "      <td>4</td>\n",
       "      <td>4</td>\n",
       "      <td>0</td>\n",
       "      <td>NaN</td>\n",
       "      <td>Adult</td>\n",
       "    </tr>\n",
       "    <tr>\n",
       "      <th>1</th>\n",
       "      <td>2</td>\n",
       "      <td>31</td>\n",
       "      <td>Male</td>\n",
       "      <td>S.S.L.C</td>\n",
       "      <td>Machine Operator</td>\n",
       "      <td>1,20,000/-</td>\n",
       "      <td>No</td>\n",
       "      <td>Friends</td>\n",
       "      <td>SKDRDP</td>\n",
       "      <td>Any</td>\n",
       "      <td>...</td>\n",
       "      <td>1</td>\n",
       "      <td>1</td>\n",
       "      <td>0</td>\n",
       "      <td>0</td>\n",
       "      <td>0</td>\n",
       "      <td>3</td>\n",
       "      <td>2</td>\n",
       "      <td>0</td>\n",
       "      <td>NaN</td>\n",
       "      <td>Adult</td>\n",
       "    </tr>\n",
       "    <tr>\n",
       "      <th>2</th>\n",
       "      <td>3</td>\n",
       "      <td>37</td>\n",
       "      <td>Male</td>\n",
       "      <td>M.B.A</td>\n",
       "      <td>Company</td>\n",
       "      <td>3,00,000/-</td>\n",
       "      <td>Yes</td>\n",
       "      <td>Family</td>\n",
       "      <td>Doctors</td>\n",
       "      <td>Wiskey</td>\n",
       "      <td>...</td>\n",
       "      <td>1</td>\n",
       "      <td>2</td>\n",
       "      <td>3</td>\n",
       "      <td>3</td>\n",
       "      <td>4</td>\n",
       "      <td>4</td>\n",
       "      <td>0</td>\n",
       "      <td>2</td>\n",
       "      <td>NaN</td>\n",
       "      <td>Adult</td>\n",
       "    </tr>\n",
       "    <tr>\n",
       "      <th>3</th>\n",
       "      <td>4</td>\n",
       "      <td>38</td>\n",
       "      <td>Male</td>\n",
       "      <td>6th</td>\n",
       "      <td>Cooly</td>\n",
       "      <td>50000</td>\n",
       "      <td>Yes</td>\n",
       "      <td>Family</td>\n",
       "      <td>Wife</td>\n",
       "      <td>Orley</td>\n",
       "      <td>...</td>\n",
       "      <td>0</td>\n",
       "      <td>2</td>\n",
       "      <td>2</td>\n",
       "      <td>1</td>\n",
       "      <td>0</td>\n",
       "      <td>0</td>\n",
       "      <td>3</td>\n",
       "      <td>3</td>\n",
       "      <td>0.0</td>\n",
       "      <td>Adult</td>\n",
       "    </tr>\n",
       "    <tr>\n",
       "      <th>4</th>\n",
       "      <td>5</td>\n",
       "      <td>42</td>\n",
       "      <td>Male</td>\n",
       "      <td>10th</td>\n",
       "      <td>Police</td>\n",
       "      <td>30000</td>\n",
       "      <td>Yes</td>\n",
       "      <td>Family</td>\n",
       "      <td>Police Department</td>\n",
       "      <td>Whisky</td>\n",
       "      <td>...</td>\n",
       "      <td>0</td>\n",
       "      <td>1</td>\n",
       "      <td>1</td>\n",
       "      <td>3</td>\n",
       "      <td>0</td>\n",
       "      <td>0</td>\n",
       "      <td>4</td>\n",
       "      <td>4</td>\n",
       "      <td>0.0</td>\n",
       "      <td>Adult</td>\n",
       "    </tr>\n",
       "    <tr>\n",
       "      <th>...</th>\n",
       "      <td>...</td>\n",
       "      <td>...</td>\n",
       "      <td>...</td>\n",
       "      <td>...</td>\n",
       "      <td>...</td>\n",
       "      <td>...</td>\n",
       "      <td>...</td>\n",
       "      <td>...</td>\n",
       "      <td>...</td>\n",
       "      <td>...</td>\n",
       "      <td>...</td>\n",
       "      <td>...</td>\n",
       "      <td>...</td>\n",
       "      <td>...</td>\n",
       "      <td>...</td>\n",
       "      <td>...</td>\n",
       "      <td>...</td>\n",
       "      <td>...</td>\n",
       "      <td>...</td>\n",
       "      <td>...</td>\n",
       "      <td>...</td>\n",
       "    </tr>\n",
       "    <tr>\n",
       "      <th>83</th>\n",
       "      <td>84</td>\n",
       "      <td>34</td>\n",
       "      <td>Male</td>\n",
       "      <td>7th</td>\n",
       "      <td>Agricultuer</td>\n",
       "      <td>1,20,000/-</td>\n",
       "      <td>Yes</td>\n",
       "      <td>Family</td>\n",
       "      <td>Nava Jeevana Samithi Member</td>\n",
       "      <td>Wiskey</td>\n",
       "      <td>...</td>\n",
       "      <td>3</td>\n",
       "      <td>0</td>\n",
       "      <td>0</td>\n",
       "      <td>1</td>\n",
       "      <td>2</td>\n",
       "      <td>4</td>\n",
       "      <td>4</td>\n",
       "      <td>0</td>\n",
       "      <td>NaN</td>\n",
       "      <td>Adult</td>\n",
       "    </tr>\n",
       "    <tr>\n",
       "      <th>84</th>\n",
       "      <td>85</td>\n",
       "      <td>40</td>\n",
       "      <td>Male</td>\n",
       "      <td>S.S.L.C</td>\n",
       "      <td>Agricultuer</td>\n",
       "      <td>30,000/-</td>\n",
       "      <td>Yes</td>\n",
       "      <td>Family</td>\n",
       "      <td>Nava Jeevana Samithi Member</td>\n",
       "      <td>Any</td>\n",
       "      <td>...</td>\n",
       "      <td>3</td>\n",
       "      <td>3</td>\n",
       "      <td>0</td>\n",
       "      <td>0</td>\n",
       "      <td>0</td>\n",
       "      <td>4</td>\n",
       "      <td>4</td>\n",
       "      <td>0</td>\n",
       "      <td>NaN</td>\n",
       "      <td>Adult</td>\n",
       "    </tr>\n",
       "    <tr>\n",
       "      <th>85</th>\n",
       "      <td>86</td>\n",
       "      <td>37</td>\n",
       "      <td>Male</td>\n",
       "      <td>PUC</td>\n",
       "      <td>Buisness</td>\n",
       "      <td>30,000/-</td>\n",
       "      <td>No</td>\n",
       "      <td>Family</td>\n",
       "      <td>Nava Jeevana Samithi Member</td>\n",
       "      <td>Wiskey</td>\n",
       "      <td>...</td>\n",
       "      <td>3</td>\n",
       "      <td>0</td>\n",
       "      <td>0</td>\n",
       "      <td>0</td>\n",
       "      <td>2</td>\n",
       "      <td>4</td>\n",
       "      <td>4</td>\n",
       "      <td>0</td>\n",
       "      <td>NaN</td>\n",
       "      <td>Adult</td>\n",
       "    </tr>\n",
       "    <tr>\n",
       "      <th>87</th>\n",
       "      <td>88</td>\n",
       "      <td>53</td>\n",
       "      <td>Male</td>\n",
       "      <td>PUC</td>\n",
       "      <td>Govt Teacher</td>\n",
       "      <td>500000</td>\n",
       "      <td>Yes</td>\n",
       "      <td>Family</td>\n",
       "      <td>Navajeevana samithi Member</td>\n",
       "      <td>Wiskey</td>\n",
       "      <td>...</td>\n",
       "      <td>0</td>\n",
       "      <td>0</td>\n",
       "      <td>0</td>\n",
       "      <td>0</td>\n",
       "      <td>0</td>\n",
       "      <td>4</td>\n",
       "      <td>4</td>\n",
       "      <td>0</td>\n",
       "      <td>NaN</td>\n",
       "      <td>Adult</td>\n",
       "    </tr>\n",
       "    <tr>\n",
       "      <th>88</th>\n",
       "      <td>89</td>\n",
       "      <td>39</td>\n",
       "      <td>Male</td>\n",
       "      <td>S.S.L.C</td>\n",
       "      <td>Hair Dresses</td>\n",
       "      <td>25000</td>\n",
       "      <td>Yes</td>\n",
       "      <td>Family</td>\n",
       "      <td>Navajeevana samithi Member</td>\n",
       "      <td>M H</td>\n",
       "      <td>...</td>\n",
       "      <td>0</td>\n",
       "      <td>2</td>\n",
       "      <td>0</td>\n",
       "      <td>1</td>\n",
       "      <td>2</td>\n",
       "      <td>4</td>\n",
       "      <td>4</td>\n",
       "      <td>0</td>\n",
       "      <td>NaN</td>\n",
       "      <td>Adult</td>\n",
       "    </tr>\n",
       "  </tbody>\n",
       "</table>\n",
       "<p>75 rows × 203 columns</p>\n",
       "</div>"
      ],
      "text/plain": [
       "    S.No  Age   Sex Education in year        Occupation Annual Income  \\\n",
       "0      1   53  Male                BE        Contractor        5 Lakh   \n",
       "1      2   31  Male           S.S.L.C  Machine Operator    1,20,000/-   \n",
       "2      3   37  Male             M.B.A           Company    3,00,000/-   \n",
       "3      4   38  Male               6th             Cooly         50000   \n",
       "4      5   42  Male              10th            Police         30000   \n",
       "..   ...  ...   ...               ...               ...           ...   \n",
       "83    84   34  Male               7th       Agricultuer    1,20,000/-   \n",
       "84    85   40  Male           S.S.L.C       Agricultuer      30,000/-   \n",
       "85    86   37  Male               PUC          Buisness      30,000/-   \n",
       "87    88   53  Male               PUC      Govt Teacher        500000   \n",
       "88    89   39  Male           S.S.L.C      Hair Dresses         25000   \n",
       "\n",
       "   Marital Status Living arrangement                     Referral Alcohol  \\\n",
       "0             Yes             Family   Nava Jeevan Samithi Member  Wiskhy   \n",
       "1              No            Friends                       SKDRDP     Any   \n",
       "2             Yes             Family                      Doctors  Wiskey   \n",
       "3             Yes             Family                         Wife   Orley   \n",
       "4             Yes             Family            Police Department  Whisky   \n",
       "..            ...                ...                          ...     ...   \n",
       "83            Yes             Family  Nava Jeevana Samithi Member  Wiskey   \n",
       "84            Yes             Family  Nava Jeevana Samithi Member     Any   \n",
       "85             No             Family  Nava Jeevana Samithi Member  Wiskey   \n",
       "87            Yes             Family   Navajeevana samithi Member  Wiskey   \n",
       "88            Yes             Family   Navajeevana samithi Member     M H   \n",
       "\n",
       "    ... DSM5CCQn16 DSM5CCQn17 DSM5CCQn18 DSM5CCQn19 DSM5CCQn20 DSM5CCQn21  \\\n",
       "0   ...          4          0          3          4          4          4   \n",
       "1   ...          1          1          0          0          0          3   \n",
       "2   ...          1          2          3          3          4          4   \n",
       "3   ...          0          2          2          1          0          0   \n",
       "4   ...          0          1          1          3          0          0   \n",
       "..  ...        ...        ...        ...        ...        ...        ...   \n",
       "83  ...          3          0          0          1          2          4   \n",
       "84  ...          3          3          0          0          0          4   \n",
       "85  ...          3          0          0          0          2          4   \n",
       "87  ...          0          0          0          0          0          4   \n",
       "88  ...          0          2          0          1          2          4   \n",
       "\n",
       "   DSM5CCQn22 DSM5CCQn23 Unnamed: 201 Age Group  \n",
       "0           4          0          NaN     Adult  \n",
       "1           2          0          NaN     Adult  \n",
       "2           0          2          NaN     Adult  \n",
       "3           3          3          0.0     Adult  \n",
       "4           4          4          0.0     Adult  \n",
       "..        ...        ...          ...       ...  \n",
       "83          4          0          NaN     Adult  \n",
       "84          4          0          NaN     Adult  \n",
       "85          4          0          NaN     Adult  \n",
       "87          4          0          NaN     Adult  \n",
       "88          4          0          NaN     Adult  \n",
       "\n",
       "[75 rows x 203 columns]"
      ]
     },
     "execution_count": 13,
     "metadata": {},
     "output_type": "execute_result"
    }
   ],
   "source": [
    "adult_set=data.loc[data['Age Group']=='Adult']\n",
    "adult_set"
   ]
  },
  {
   "cell_type": "code",
   "execution_count": 18,
   "id": "d44c88df",
   "metadata": {},
   "outputs": [
    {
     "data": {
      "text/plain": [
       "'12year'"
      ]
     },
     "execution_count": 18,
     "metadata": {},
     "output_type": "execute_result"
    }
   ],
   "source": [
    "adult_set['AAO for alcohol in year'].min()"
   ]
  },
  {
   "cell_type": "code",
   "execution_count": 19,
   "id": "7397e7d2",
   "metadata": {},
   "outputs": [
    {
     "data": {
      "text/plain": [
       "'42 Year'"
      ]
     },
     "execution_count": 19,
     "metadata": {},
     "output_type": "execute_result"
    }
   ],
   "source": [
    "adult_set['AAO for alcohol in year'].max()"
   ]
  },
  {
   "cell_type": "code",
   "execution_count": 20,
   "id": "c0093180",
   "metadata": {},
   "outputs": [
    {
     "name": "stderr",
     "output_type": "stream",
     "text": [
      "C:\\Users\\Lenovo\\AppData\\Local\\Temp/ipykernel_14732/953083056.py:1: FutureWarning: The default value of regex will change from True to False in a future version.\n",
      "  adult_set['AAO for alcohol in year']=adult_set['AAO for alcohol in year'].str.replace(\"[year,Year,s]\",\"\")\n",
      "C:\\Users\\Lenovo\\AppData\\Local\\Temp/ipykernel_14732/953083056.py:1: SettingWithCopyWarning: \n",
      "A value is trying to be set on a copy of a slice from a DataFrame.\n",
      "Try using .loc[row_indexer,col_indexer] = value instead\n",
      "\n",
      "See the caveats in the documentation: https://pandas.pydata.org/pandas-docs/stable/user_guide/indexing.html#returning-a-view-versus-a-copy\n",
      "  adult_set['AAO for alcohol in year']=adult_set['AAO for alcohol in year'].str.replace(\"[year,Year,s]\",\"\")\n"
     ]
    },
    {
     "data": {
      "text/plain": [
       "0     20 \n",
       "1     23 \n",
       "2     18 \n",
       "3      12\n",
       "4      30\n",
       "     ... \n",
       "83    14 \n",
       "84    25 \n",
       "85    20 \n",
       "87     23\n",
       "88     24\n",
       "Name: AAO for alcohol in year, Length: 75, dtype: object"
      ]
     },
     "execution_count": 20,
     "metadata": {},
     "output_type": "execute_result"
    }
   ],
   "source": [
    "adult_set['AAO for alcohol in year']=adult_set['AAO for alcohol in year'].str.replace(\"[year,Year,s]\",\"\")\n",
    "adult_set['AAO for alcohol in year']"
   ]
  },
  {
   "cell_type": "code",
   "execution_count": 21,
   "id": "2268f2e2",
   "metadata": {},
   "outputs": [
    {
     "name": "stderr",
     "output_type": "stream",
     "text": [
      "C:\\Users\\Lenovo\\AppData\\Local\\Temp/ipykernel_14732/2371071022.py:1: SettingWithCopyWarning: \n",
      "A value is trying to be set on a copy of a slice from a DataFrame.\n",
      "Try using .loc[row_indexer,col_indexer] = value instead\n",
      "\n",
      "See the caveats in the documentation: https://pandas.pydata.org/pandas-docs/stable/user_guide/indexing.html#returning-a-view-versus-a-copy\n",
      "  adult_set['AAO for alcohol in year']=adult_set['AAO for alcohol in year'].astype(int)\n"
     ]
    }
   ],
   "source": [
    "adult_set['AAO for alcohol in year']=adult_set['AAO for alcohol in year'].astype(int)\n"
   ]
  },
  {
   "cell_type": "code",
   "execution_count": 22,
   "id": "a2c15382",
   "metadata": {},
   "outputs": [
    {
     "name": "stderr",
     "output_type": "stream",
     "text": [
      "C:\\Users\\Lenovo\\AppData\\Local\\Temp/ipykernel_14732/1669512337.py:13: SettingWithCopyWarning: \n",
      "A value is trying to be set on a copy of a slice from a DataFrame.\n",
      "Try using .loc[row_indexer,col_indexer] = value instead\n",
      "\n",
      "See the caveats in the documentation: https://pandas.pydata.org/pandas-docs/stable/user_guide/indexing.html#returning-a-view-versus-a-copy\n",
      "  adult_set['adult_age_category'] = adult_set['AAO for alcohol in year'].apply(lambda x: get_age(x))\n"
     ]
    },
    {
     "data": {
      "text/html": [
       "<div>\n",
       "<style scoped>\n",
       "    .dataframe tbody tr th:only-of-type {\n",
       "        vertical-align: middle;\n",
       "    }\n",
       "\n",
       "    .dataframe tbody tr th {\n",
       "        vertical-align: top;\n",
       "    }\n",
       "\n",
       "    .dataframe thead th {\n",
       "        text-align: right;\n",
       "    }\n",
       "</style>\n",
       "<table border=\"1\" class=\"dataframe\">\n",
       "  <thead>\n",
       "    <tr style=\"text-align: right;\">\n",
       "      <th></th>\n",
       "      <th>S.No</th>\n",
       "      <th>Age</th>\n",
       "      <th>Sex</th>\n",
       "      <th>Education in year</th>\n",
       "      <th>Occupation</th>\n",
       "      <th>Annual Income</th>\n",
       "      <th>Marital Status</th>\n",
       "      <th>Living arrangement</th>\n",
       "      <th>Referral</th>\n",
       "      <th>Alcohol</th>\n",
       "      <th>...</th>\n",
       "      <th>DSM5CCQn17</th>\n",
       "      <th>DSM5CCQn18</th>\n",
       "      <th>DSM5CCQn19</th>\n",
       "      <th>DSM5CCQn20</th>\n",
       "      <th>DSM5CCQn21</th>\n",
       "      <th>DSM5CCQn22</th>\n",
       "      <th>DSM5CCQn23</th>\n",
       "      <th>Extra</th>\n",
       "      <th>Age Group</th>\n",
       "      <th>adult_age_category</th>\n",
       "    </tr>\n",
       "  </thead>\n",
       "  <tbody>\n",
       "    <tr>\n",
       "      <th>0</th>\n",
       "      <td>1</td>\n",
       "      <td>53</td>\n",
       "      <td>Male</td>\n",
       "      <td>BE</td>\n",
       "      <td>Contractor</td>\n",
       "      <td>5 Lakh</td>\n",
       "      <td>Yes</td>\n",
       "      <td>Family</td>\n",
       "      <td>Nava Jeevan Samithi Member</td>\n",
       "      <td>Wiskhy</td>\n",
       "      <td>...</td>\n",
       "      <td>0</td>\n",
       "      <td>3</td>\n",
       "      <td>4</td>\n",
       "      <td>4</td>\n",
       "      <td>4</td>\n",
       "      <td>4</td>\n",
       "      <td>0</td>\n",
       "      <td>NaN</td>\n",
       "      <td>Adult</td>\n",
       "      <td>20-30</td>\n",
       "    </tr>\n",
       "    <tr>\n",
       "      <th>1</th>\n",
       "      <td>2</td>\n",
       "      <td>31</td>\n",
       "      <td>Male</td>\n",
       "      <td>S.S.L.C</td>\n",
       "      <td>Machine Operator</td>\n",
       "      <td>1,20,000/-</td>\n",
       "      <td>No</td>\n",
       "      <td>Friends</td>\n",
       "      <td>SKDRDP</td>\n",
       "      <td>Any</td>\n",
       "      <td>...</td>\n",
       "      <td>1</td>\n",
       "      <td>0</td>\n",
       "      <td>0</td>\n",
       "      <td>0</td>\n",
       "      <td>3</td>\n",
       "      <td>2</td>\n",
       "      <td>0</td>\n",
       "      <td>NaN</td>\n",
       "      <td>Adult</td>\n",
       "      <td>20-30</td>\n",
       "    </tr>\n",
       "    <tr>\n",
       "      <th>2</th>\n",
       "      <td>3</td>\n",
       "      <td>37</td>\n",
       "      <td>Male</td>\n",
       "      <td>M.B.A</td>\n",
       "      <td>Company</td>\n",
       "      <td>3,00,000/-</td>\n",
       "      <td>Yes</td>\n",
       "      <td>Family</td>\n",
       "      <td>Doctors</td>\n",
       "      <td>Wiskey</td>\n",
       "      <td>...</td>\n",
       "      <td>2</td>\n",
       "      <td>3</td>\n",
       "      <td>3</td>\n",
       "      <td>4</td>\n",
       "      <td>4</td>\n",
       "      <td>0</td>\n",
       "      <td>2</td>\n",
       "      <td>NaN</td>\n",
       "      <td>Adult</td>\n",
       "      <td>10-20</td>\n",
       "    </tr>\n",
       "    <tr>\n",
       "      <th>3</th>\n",
       "      <td>4</td>\n",
       "      <td>38</td>\n",
       "      <td>Male</td>\n",
       "      <td>6th</td>\n",
       "      <td>Cooly</td>\n",
       "      <td>50000</td>\n",
       "      <td>Yes</td>\n",
       "      <td>Family</td>\n",
       "      <td>Wife</td>\n",
       "      <td>Orley</td>\n",
       "      <td>...</td>\n",
       "      <td>2</td>\n",
       "      <td>2</td>\n",
       "      <td>1</td>\n",
       "      <td>0</td>\n",
       "      <td>0</td>\n",
       "      <td>3</td>\n",
       "      <td>3</td>\n",
       "      <td>0.0</td>\n",
       "      <td>Adult</td>\n",
       "      <td>10-20</td>\n",
       "    </tr>\n",
       "    <tr>\n",
       "      <th>4</th>\n",
       "      <td>5</td>\n",
       "      <td>42</td>\n",
       "      <td>Male</td>\n",
       "      <td>10th</td>\n",
       "      <td>Police</td>\n",
       "      <td>30000</td>\n",
       "      <td>Yes</td>\n",
       "      <td>Family</td>\n",
       "      <td>Police Department</td>\n",
       "      <td>Whisky</td>\n",
       "      <td>...</td>\n",
       "      <td>1</td>\n",
       "      <td>1</td>\n",
       "      <td>3</td>\n",
       "      <td>0</td>\n",
       "      <td>0</td>\n",
       "      <td>4</td>\n",
       "      <td>4</td>\n",
       "      <td>0.0</td>\n",
       "      <td>Adult</td>\n",
       "      <td>30-40</td>\n",
       "    </tr>\n",
       "    <tr>\n",
       "      <th>5</th>\n",
       "      <td>6</td>\n",
       "      <td>33</td>\n",
       "      <td>Male</td>\n",
       "      <td>7th</td>\n",
       "      <td>Auto Driver</td>\n",
       "      <td>50000</td>\n",
       "      <td>Yes</td>\n",
       "      <td>Family</td>\n",
       "      <td>Nava Jeevana Samithi Member</td>\n",
       "      <td>MC/BP</td>\n",
       "      <td>...</td>\n",
       "      <td>3</td>\n",
       "      <td>0</td>\n",
       "      <td>0</td>\n",
       "      <td>0</td>\n",
       "      <td>0</td>\n",
       "      <td>4</td>\n",
       "      <td>0</td>\n",
       "      <td>0.0</td>\n",
       "      <td>Adult</td>\n",
       "      <td>20-30</td>\n",
       "    </tr>\n",
       "    <tr>\n",
       "      <th>6</th>\n",
       "      <td>7</td>\n",
       "      <td>53</td>\n",
       "      <td>Male</td>\n",
       "      <td>Diploma Engineering</td>\n",
       "      <td>Engineer</td>\n",
       "      <td>200000</td>\n",
       "      <td>Yes</td>\n",
       "      <td>Family</td>\n",
       "      <td>Friends/Through awarness programme</td>\n",
       "      <td>Whisky</td>\n",
       "      <td>...</td>\n",
       "      <td>0</td>\n",
       "      <td>2</td>\n",
       "      <td>0</td>\n",
       "      <td>0</td>\n",
       "      <td>0</td>\n",
       "      <td>4</td>\n",
       "      <td>4</td>\n",
       "      <td>3.0</td>\n",
       "      <td>Adult</td>\n",
       "      <td>20-30</td>\n",
       "    </tr>\n",
       "    <tr>\n",
       "      <th>7</th>\n",
       "      <td>8</td>\n",
       "      <td>41</td>\n",
       "      <td>Male</td>\n",
       "      <td>IIPUC</td>\n",
       "      <td>Agriculture</td>\n",
       "      <td>35000</td>\n",
       "      <td>Yes</td>\n",
       "      <td>Family</td>\n",
       "      <td>Familky</td>\n",
       "      <td>Vodka</td>\n",
       "      <td>...</td>\n",
       "      <td>2</td>\n",
       "      <td>4</td>\n",
       "      <td>0</td>\n",
       "      <td>0</td>\n",
       "      <td>0</td>\n",
       "      <td>4</td>\n",
       "      <td>4</td>\n",
       "      <td>3.0</td>\n",
       "      <td>Adult</td>\n",
       "      <td>30-40</td>\n",
       "    </tr>\n",
       "    <tr>\n",
       "      <th>8</th>\n",
       "      <td>9</td>\n",
       "      <td>34</td>\n",
       "      <td>Male</td>\n",
       "      <td>10th</td>\n",
       "      <td>Coolie</td>\n",
       "      <td>11000</td>\n",
       "      <td>No</td>\n",
       "      <td>Family</td>\n",
       "      <td>Family</td>\n",
       "      <td>Local Brandy</td>\n",
       "      <td>...</td>\n",
       "      <td>3</td>\n",
       "      <td>2</td>\n",
       "      <td>0</td>\n",
       "      <td>3</td>\n",
       "      <td>0</td>\n",
       "      <td>4</td>\n",
       "      <td>4</td>\n",
       "      <td>0.0</td>\n",
       "      <td>Adult</td>\n",
       "      <td>20-30</td>\n",
       "    </tr>\n",
       "    <tr>\n",
       "      <th>9</th>\n",
       "      <td>10</td>\n",
       "      <td>46</td>\n",
       "      <td>Male</td>\n",
       "      <td>PUC</td>\n",
       "      <td>S D A</td>\n",
       "      <td>350000</td>\n",
       "      <td>Yes</td>\n",
       "      <td>Family</td>\n",
       "      <td>Nava Jeevana Samithi Member</td>\n",
       "      <td>BP Whiskey</td>\n",
       "      <td>...</td>\n",
       "      <td>0</td>\n",
       "      <td>0</td>\n",
       "      <td>0</td>\n",
       "      <td>1</td>\n",
       "      <td>0</td>\n",
       "      <td>2</td>\n",
       "      <td>4</td>\n",
       "      <td>1.0</td>\n",
       "      <td>Adult</td>\n",
       "      <td>20-30</td>\n",
       "    </tr>\n",
       "  </tbody>\n",
       "</table>\n",
       "<p>10 rows × 204 columns</p>\n",
       "</div>"
      ],
      "text/plain": [
       "   S.No  Age   Sex    Education in year        Occupation Annual Income  \\\n",
       "0     1   53  Male                   BE        Contractor        5 Lakh   \n",
       "1     2   31  Male              S.S.L.C  Machine Operator    1,20,000/-   \n",
       "2     3   37  Male                M.B.A           Company    3,00,000/-   \n",
       "3     4   38  Male                  6th             Cooly         50000   \n",
       "4     5   42  Male                 10th            Police         30000   \n",
       "5     6   33  Male                  7th       Auto Driver         50000   \n",
       "6     7   53  Male  Diploma Engineering          Engineer        200000   \n",
       "7     8   41  Male                IIPUC       Agriculture         35000   \n",
       "8     9   34  Male                 10th            Coolie         11000   \n",
       "9    10   46  Male                  PUC             S D A        350000   \n",
       "\n",
       "  Marital Status Living arrangement                            Referral  \\\n",
       "0            Yes             Family          Nava Jeevan Samithi Member   \n",
       "1             No            Friends                              SKDRDP   \n",
       "2            Yes             Family                             Doctors   \n",
       "3            Yes             Family                                Wife   \n",
       "4            Yes             Family                   Police Department   \n",
       "5            Yes             Family         Nava Jeevana Samithi Member   \n",
       "6            Yes             Family  Friends/Through awarness programme   \n",
       "7            Yes             Family                             Familky   \n",
       "8             No             Family                              Family   \n",
       "9            Yes             Family         Nava Jeevana Samithi Member   \n",
       "\n",
       "        Alcohol  ...  DSM5CCQn17 DSM5CCQn18 DSM5CCQn19 DSM5CCQn20 DSM5CCQn21  \\\n",
       "0        Wiskhy  ...           0          3          4          4          4   \n",
       "1           Any  ...           1          0          0          0          3   \n",
       "2        Wiskey  ...           2          3          3          4          4   \n",
       "3         Orley  ...           2          2          1          0          0   \n",
       "4        Whisky  ...           1          1          3          0          0   \n",
       "5         MC/BP  ...           3          0          0          0          0   \n",
       "6        Whisky  ...           0          2          0          0          0   \n",
       "7         Vodka  ...           2          4          0          0          0   \n",
       "8  Local Brandy  ...           3          2          0          3          0   \n",
       "9    BP Whiskey  ...           0          0          0          1          0   \n",
       "\n",
       "  DSM5CCQn22 DSM5CCQn23 Extra Age Group adult_age_category  \n",
       "0          4          0   NaN     Adult              20-30  \n",
       "1          2          0   NaN     Adult              20-30  \n",
       "2          0          2   NaN     Adult              10-20  \n",
       "3          3          3   0.0     Adult              10-20  \n",
       "4          4          4   0.0     Adult              30-40  \n",
       "5          4          0   0.0     Adult              20-30  \n",
       "6          4          4   3.0     Adult              20-30  \n",
       "7          4          4   3.0     Adult              30-40  \n",
       "8          4          4   0.0     Adult              20-30  \n",
       "9          2          4   1.0     Adult              20-30  \n",
       "\n",
       "[10 rows x 204 columns]"
      ]
     },
     "execution_count": 22,
     "metadata": {},
     "output_type": "execute_result"
    }
   ],
   "source": [
    "def get_age(age):\n",
    "    if(age>=10 and age<20):\n",
    "        return '10-20'\n",
    "    elif(age>=20 and age<30):\n",
    "        return '20-30'\n",
    "    elif(age>=30 and age<40):\n",
    "        return '30-40'\n",
    "    else:\n",
    "        return '40-50'\n",
    "    \n",
    "       \n",
    "    \n",
    "adult_set['adult_age_category'] = adult_set['AAO for alcohol in year'].apply(lambda x: get_age(x))\n",
    "\n",
    "adult_set.head(10)\n"
   ]
  },
  {
   "cell_type": "code",
   "execution_count": 23,
   "id": "1cfb0195",
   "metadata": {
    "scrolled": true
   },
   "outputs": [
    {
     "data": {
      "text/plain": [
       "no     79\n",
       "yes    10\n",
       "Name: Period of Treatment, dtype: int64"
      ]
     },
     "execution_count": 23,
     "metadata": {},
     "output_type": "execute_result"
    }
   ],
   "source": [
    "def splitting(item):\n",
    "    list23=item.split(\"\\n\")\n",
    "   # print(list1)\n",
    "    if len(list23)==2:\n",
    "        return 'yes'\n",
    "    else:\n",
    "        return 'no'\n",
    "    \n",
    "list55=data[\"Period of Treatment\"].apply(lambda x: splitting(x))\n",
    "list55.value_counts()\n",
    "\n"
   ]
  },
  {
   "cell_type": "markdown",
   "id": "fdf59d3a",
   "metadata": {},
   "source": [
    "###### There are 79 patients who have relapsed once after taking treatment\n",
    "###### There are 10 patients who have relapsed twice after taking treatment twice"
   ]
  },
  {
   "cell_type": "code",
   "execution_count": 24,
   "id": "9e04cf8c",
   "metadata": {},
   "outputs": [
    {
     "data": {
      "text/plain": [
       "<matplotlib.legend.Legend at 0x1f34856bfd0>"
      ]
     },
     "execution_count": 24,
     "metadata": {},
     "output_type": "execute_result"
    },
    {
     "data": {
      "image/png": "[encoded data removed]",
      "text/plain": [
       "<Figure size 432x288 with 1 Axes>"
      ]
     },
     "metadata": {},
     "output_type": "display_data"
    }
   ],
   "source": [
    "##AAO range of adult group\n",
    "\n",
    "import matplotlib.pyplot as plt\n",
    "adult_category=adult_set['adult_age_category'].value_counts()\n",
    "myexe=[0.05,0,0.1,0,]\n",
    "label=[\"20-30\",\"10-20\",\"30-40\",\"40-50\"]\n",
    "plt.pie(adult_category,autopct=\"%1.2f%%\",explode=myexe,shadow='TRUE',radius=1.5,labels=label)\n",
    "plt.legend(title='Range in year')"
   ]
  },
  {
   "cell_type": "code",
   "execution_count": 25,
   "id": "302bc083",
   "metadata": {},
   "outputs": [
    {
     "data": {
      "text/plain": [
       "['360',\n",
       " '540',\n",
       " '720',\n",
       " '720',\n",
       " '360',\n",
       " '720',\n",
       " '450',\n",
       " '540',\n",
       " '540',\n",
       " '720',\n",
       " '180',\n",
       " '630',\n",
       " '450',\n",
       " '2600',\n",
       " '720',\n",
       " '540',\n",
       " '2100',\n",
       " '1260',\n",
       " '360',\n",
       " '540',\n",
       " '720',\n",
       " '360',\n",
       " '720',\n",
       " '720',\n",
       " '360',\n",
       " '360',\n",
       " '720',\n",
       " '360',\n",
       " '360',\n",
       " '360',\n",
       " '720',\n",
       " '270',\n",
       " '540',\n",
       " '360',\n",
       " '720',\n",
       " '540',\n",
       " '540',\n",
       " '360',\n",
       " '720',\n",
       " '360',\n",
       " '360',\n",
       " '360',\n",
       " '270',\n",
       " '360',\n",
       " '360',\n",
       " '360',\n",
       " '540',\n",
       " '540',\n",
       " '270',\n",
       " '360',\n",
       " '540',\n",
       " '360',\n",
       " '540',\n",
       " '720',\n",
       " '720',\n",
       " '720',\n",
       " '540',\n",
       " '540',\n",
       " '540',\n",
       " '720',\n",
       " '360',\n",
       " '360',\n",
       " '540',\n",
       " '720',\n",
       " '720',\n",
       " '360',\n",
       " '360',\n",
       " '360',\n",
       " '1080',\n",
       " '180',\n",
       " '720',\n",
       " '540',\n",
       " '90',\n",
       " '540',\n",
       " '720',\n",
       " '900',\n",
       " '900',\n",
       " '450',\n",
       " '540',\n",
       " '540',\n",
       " '1080',\n",
       " '900',\n",
       " '720',\n",
       " '540',\n",
       " '360',\n",
       " '720',\n",
       " '540',\n",
       " '720',\n",
       " '360']"
      ]
     },
     "execution_count": 25,
     "metadata": {},
     "output_type": "execute_result"
    }
   ],
   "source": [
    "#extracting one column into list and removing substring from the tuples and converting string type to int type\n",
    "\n",
    "list1=data['avarage units used in last 30days'].to_list()\n",
    "    \n",
    "for i in range(len(list1)):\n",
    "    list1[i]=list1[i].removesuffix('ml')\n",
    "list1\n"
   ]
  },
  {
   "cell_type": "code",
   "execution_count": 26,
   "id": "4de4e1c0",
   "metadata": {},
   "outputs": [
    {
     "name": "stdout",
     "output_type": "stream",
     "text": [
      "[360, 540, 720, 720, 360, 720, 450, 540, 540, 720, 180, 630, 450, 2600, 720, 540, 2100, 1260, 360, 540, 720, 360, 720, 720, 360, 360, 720, 360, 360, 360, 720, 270, 540, 360, 720, 540, 540, 360, 720, 360, 360, 360, 270, 360, 360, 360, 540, 540, 270, 360, 540, 360, 540, 720, 720, 720, 540, 540, 540, 720, 360, 360, 540, 720, 720, 360, 360, 360, 1080, 180, 720, 540, 90, 540, 720, 900, 900, 450, 540, 540, 1080, 900, 720, 540, 360, 720, 540, 720, 360]\n"
     ]
    }
   ],
   "source": [
    "list1=[int(i) for i in list1]\n",
    "print(list1)"
   ]
  },
  {
   "cell_type": "code",
   "execution_count": 27,
   "id": "ecea7b17",
   "metadata": {},
   "outputs": [
    {
     "data": {
      "text/plain": [
       "0     360\n",
       "1     540\n",
       "2     720\n",
       "3     720\n",
       "4     360\n",
       "     ... \n",
       "84    360\n",
       "85    720\n",
       "86    540\n",
       "87    720\n",
       "88    360\n",
       "Name: avarage units used in last 30days, Length: 89, dtype: int64"
      ]
     },
     "execution_count": 27,
     "metadata": {},
     "output_type": "execute_result"
    }
   ],
   "source": [
    "data.loc[:,'avarage units used in last 30days']=list1\n",
    "data['avarage units used in last 30days']"
   ]
  },
  {
   "cell_type": "code",
   "execution_count": 28,
   "id": "9c27d610",
   "metadata": {},
   "outputs": [
    {
     "data": {
      "text/plain": [
       "Age Group\n",
       "Adult     46010\n",
       "Senior      720\n",
       "Youth      5130\n",
       "Name: avarage units used in last 30days, dtype: int64"
      ]
     },
     "execution_count": 28,
     "metadata": {},
     "output_type": "execute_result"
    }
   ],
   "source": [
    "data1=data.groupby('Age Group').sum()['avarage units used in last 30days']\n",
    "data1\n",
    "\n"
   ]
  },
  {
   "cell_type": "markdown",
   "id": "445e42f7",
   "metadata": {},
   "source": [
    "##### age group vs sum of 'avarage units used in last 30days' by each age group"
   ]
  },
  {
   "cell_type": "code",
   "execution_count": 29,
   "id": "a4177a74",
   "metadata": {},
   "outputs": [
    {
     "data": {
      "text/plain": [
       "<BarContainer object of 3 artists>"
      ]
     },
     "execution_count": 29,
     "metadata": {},
     "output_type": "execute_result"
    },
    {
     "data": {
      "image/png": "[encoded data removed]",
      "text/plain": [
       "<Figure size 432x288 with 1 Axes>"
      ]
     },
     "metadata": {
      "needs_background": "light"
     },
     "output_type": "display_data"
    }
   ],
   "source": [
    "\n",
    "plt.bar(data1.index, data1, width=0.5)"
   ]
  },
  {
   "cell_type": "code",
   "execution_count": 30,
   "id": "f3dd9c10",
   "metadata": {},
   "outputs": [],
   "source": [
    "df_Adult=data.loc[data['Age Group']=='Adult']\n",
    "Adult_count=df_Adult['Denial of substance use related problems'].value_counts()\n",
    "df_Senior=data.loc[data['Age Group']=='Senior']\n",
    "Senior_count=df_Senior['Denial of substance use related problems'].value_counts()\n",
    "df_Youth=data.loc[data['Age Group']=='Youth']\n",
    "Youth_count=df_Youth['Denial of substance use related problems'].value_counts()"
   ]
  },
  {
   "cell_type": "code",
   "execution_count": 31,
   "id": "5544dbec",
   "metadata": {},
   "outputs": [
    {
     "data": {
      "text/plain": [
       "Text(0.5, 0.98, 'Analysis of Denial of substance use related problems based on age group')"
      ]
     },
     "execution_count": 31,
     "metadata": {},
     "output_type": "execute_result"
    },
    {
     "data": {
      "image/png": "[encoded data removed]",
      "text/plain": [
       "<Figure size 1296x720 with 3 Axes>"
      ]
     },
     "metadata": {},
     "output_type": "display_data"
    }
   ],
   "source": [
    "fig=plt.figure(figsize=(18,10))\n",
    "ax1=plt.subplot2grid((1,3),(0,0))\n",
    "\n",
    "Youth_count.plot(kind='pie',autopct=\"%1.2f%%\")\n",
    "plt.title(\"Youth Denial\")\n",
    "\n",
    "ax1=plt.subplot2grid((1,3),(0,1))\n",
    "Adult_count.plot(kind='pie',autopct=\"%1.2f%%\")\n",
    "plt.title(\"Adult Denial\")\n",
    "\n",
    "ax1=plt.subplot2grid((1,3),(0,2))\n",
    "Senior_count.plot(kind='pie',autopct=\"%1.2f%%\")\n",
    "plt.title(\"Senior Denial\")\n",
    "plt.suptitle('Analysis of Denial of substance use related problems based on age group', size=20, color='brown')\n",
    "#plt.pie(Adult_count,autopct=\"%1.2f%%\")\n",
    "#a[0][1]=Adult_count.plot(kind='pie',autopct=\"%1.2f%%\")\n"
   ]
  },
  {
   "cell_type": "code",
   "execution_count": 32,
   "id": "1fa2c0af",
   "metadata": {},
   "outputs": [
    {
     "data": {
      "text/plain": [
       "Someone in family or friends were using                                                                          37\n",
       "Some one in family or friends were using                                                                         13\n",
       "Someone in family or friends were using, To feel better and confident or happy                                    7\n",
       "To feel better and confident or happy                                                                             5\n",
       "Someone in family and friends were using                                                                          4\n",
       "To avoid problems and sadness                                                                                     3\n",
       "Someone in family or friends were using                                                                           3\n",
       "To feel better and confident or happy, To avoid problems and sadness                                              3\n",
       "To avoid problems & Sadness                                                                                       1\n",
       "Someone in family and friends were using, To feel Better and  confident or happy                                  1\n",
       "Someone in family or friends were using , Toavoid problems and sadness                                            1\n",
       "Someone in family or friends were using , To feel better and confident or happy                                   1\n",
       "To  avoid problems and sadness                                                                                    1\n",
       "Someone in friends were using                                                                                     1\n",
       "To feel better and confident or happy, To avoid Problems and sadness                                              1\n",
       "Heavy Cold in his working place                                                                                   1\n",
       "Someone in family or friends were using, To feel better and confident or happy, To avoid problems and sadness     1\n",
       "Some one in family or friends were using                                                                          1\n",
       "Someone in family or friends were using,to feel better and confident or happy                                     1\n",
       "Someone in family or friends were using,                                                                          1\n",
       "Other reasons                                                                                                     1\n",
       "Someone in family or friends were using,  To feel better and confident or happy                                   1\n",
       "Name: Reason for starting alcohol, dtype: int64"
      ]
     },
     "execution_count": 32,
     "metadata": {},
     "output_type": "execute_result"
    }
   ],
   "source": [
    "count=data['Reason for starting alcohol'].value_counts()\n",
    "count\n"
   ]
  },
  {
   "cell_type": "code",
   "execution_count": 36,
   "id": "797f73c3",
   "metadata": {},
   "outputs": [],
   "source": [
    "data['Reason for starting alcohol']=data['Reason for starting alcohol'].replace({'Some one in family or friends were using':\n",
    "                                                                             'Someone in family or friends were using'},regex=True)\n",
    "\n",
    "data['Reason for starting alcohol']=data['Reason for starting alcohol'].replace({'Someone in family or friends were using,':\n",
    "                                                                             'Someone in family or friends were using'},regex=True)\n",
    "\n",
    "\n",
    "data['Reason for starting alcohol']=data['Reason for starting alcohol'].replace({'Someone in family or friends were using, To feel Better and  confident or happy':\n",
    "                                                                             'Someone in family or friends were using , To feel better and confident or happy'},regex=True)\n",
    "\n",
    "data['Reason for starting alcohol']=data['Reason for starting alcohol'].replace({'Someone in family or friends were using,to feel better and confident or happy ':\n",
    "                                                                             'Someone in family or friends were using , To feel better and confident or happy'},regex=True)\n",
    "\n",
    "\n",
    "data['Reason for starting alcohol']=data['Reason for starting alcohol'].replace({'Someone in family or friends were using,  To feel better and confident or happy':\n",
    "                                                                             'Someone in family or friends were using , To feel better and confident or happy'},regex=True)\n",
    "\n",
    "\n",
    "\n",
    "data['Reason for starting alcohol']=data['Reason for starting alcohol'].replace({'Someone in family or friends were using,to feel better and confident or happy ':\n",
    "                                                                             'Someone in family or friends were using , To feel better and confident or happy'},regex=True)\n",
    "\n",
    "data['Reason for starting alcohol']=data['Reason for starting alcohol'].replace({'Someone in family or friends were using, To feel better and confident or happy':\n",
    "                                                                             'Someone in family or friends were using , To feel better and confident or happy'},regex=True)\n",
    "\n",
    "data['Reason for starting alcohol']=data['Reason for starting alcohol'].replace({'To feel better and confident or happy, To avoid problems and sadness':\n",
    "                                                                             'To feel better and confident or happy, To avoid Problems and sadness'},regex=True)\n",
    "\n",
    "\n",
    "data['Reason for starting alcohol']=data['Reason for starting alcohol'].replace({'To avoid problems & Sadness':\n",
    "                                                                             'To avoid problems and sadness'},regex=True)\n",
    "\n",
    "\n",
    "\n",
    "data['Reason for starting alcohol']=data['Reason for starting alcohol'].replace({'To  avoid problems and sadness':\n",
    "                                                                             'To avoid problems and sadness'},regex=True)\n",
    "\n",
    "\n",
    "\n",
    "\n",
    "\n",
    "data['Reason for starting alcohol']=data['Reason for starting alcohol'].replace({'Someone in family or friends were using ':\n",
    "                                                                             'Someone in family or friends were using'},regex=True)\n",
    "\n",
    "data['Reason for starting alcohol']=data['Reason for starting alcohol'].replace({'Someone in family or friends were usingto feel better and confident or happy':\n",
    "                                                                             'Someone in family or friends were usingTo feel better and confident or happy'},regex=True)\n",
    "\n",
    "data['Reason for starting alcohol']=data['Reason for starting alcohol'].replace({'Someone in family and friends were using, To feel Better and  confident or happy':\n",
    "                                                                             'Someone in family or friends were usingTo feel better and confident or happy'},regex=True)\n",
    "\n"
   ]
  },
  {
   "cell_type": "code",
   "execution_count": 37,
   "id": "981e6e53",
   "metadata": {},
   "outputs": [
    {
     "data": {
      "text/plain": [
       "Someone in family or friends were using                                                                        55\n",
       "Someone in family or friends were usingTo feel better and confident or happy                                   11\n",
       "To feel better and confident or happy                                                                           5\n",
       "To avoid problems and sadness                                                                                   5\n",
       "To feel better and confident or happy, To avoid Problems and sadness                                            4\n",
       "Someone in family and friends were using                                                                        4\n",
       "Someone in friends were using                                                                                   1\n",
       "Other reasons                                                                                                   1\n",
       "Someone in family or friends were usingTo feel better and confident or happy, To avoid Problems and sadness     1\n",
       "Heavy Cold in his working place                                                                                 1\n",
       "Someone in family or friends were usingToavoid problems and sadness                                             1\n",
       "Name: Reason for starting alcohol, dtype: int64"
      ]
     },
     "execution_count": 37,
     "metadata": {},
     "output_type": "execute_result"
    }
   ],
   "source": [
    "count=data['Reason for starting alcohol'].value_counts()\n",
    "count\n"
   ]
  },
  {
   "cell_type": "code",
   "execution_count": 38,
   "id": "28799a2f",
   "metadata": {},
   "outputs": [
    {
     "data": {
      "text/plain": [
       "<AxesSubplot:ylabel='Reason for starting alcohol'>"
      ]
     },
     "execution_count": 38,
     "metadata": {},
     "output_type": "execute_result"
    },
    {
     "data": {
      "image/png": "[encoded data removed]",
      "text/plain": [
       "<Figure size 360x360 with 1 Axes>"
      ]
     },
     "metadata": {},
     "output_type": "display_data"
    }
   ],
   "source": [
    "labels = data['Reason for starting alcohol'].value_counts()\n",
    "\n",
    "#define Seaborn color palette to use\n",
    "\n",
    "#create pie chart\n",
    "\n",
    "explodes = (0.02, 0.02, 0.05, 0.05,0.06,0.06,0.06,0.05,0.05,0.05,0.05)\n",
    "labels.plot(kind='pie',autopct='%.0f%%',explode=explodes,figsize=(5, 5))\n"
   ]
  },
  {
   "cell_type": "code",
   "execution_count": 39,
   "id": "28f595cd",
   "metadata": {},
   "outputs": [
    {
     "data": {
      "text/plain": [
       "Wiskey          26\n",
       "Any             11\n",
       "B.P              7\n",
       "Any type         6\n",
       "Choice           6\n",
       "Whisky           4\n",
       "Brandy           4\n",
       "Beer             2\n",
       "O.T              2\n",
       "Rum              2\n",
       "MC Whisky        1\n",
       "M.C\\nO.C         1\n",
       "OC, Whisky       1\n",
       "B.P, O.T         1\n",
       "Chills           1\n",
       "M.C              1\n",
       "M.H Brandy       1\n",
       "Admiral          1\n",
       "Wiskhy           1\n",
       "OT               1\n",
       "O.C              1\n",
       "M.C.B            1\n",
       "O T              1\n",
       "BP Whiskey       1\n",
       "Local Brandy     1\n",
       "Vodka            1\n",
       "MC/BP            1\n",
       "Orley            1\n",
       "M H              1\n",
       "Name: Alcohol, dtype: int64"
      ]
     },
     "execution_count": 39,
     "metadata": {},
     "output_type": "execute_result"
    }
   ],
   "source": [
    "count=data['Alcohol'].value_counts()\n",
    "count\n"
   ]
  },
  {
   "cell_type": "code",
   "execution_count": 40,
   "id": "a7121095",
   "metadata": {},
   "outputs": [],
   "source": [
    "data['Alcohol']=data['Alcohol'].replace({'Wiskey':'Whisky'},regex=True)\n",
    "data['Alcohol']=data['Alcohol'].replace({'Wiskhy':'Whisky'},regex=True)\n",
    "data['Alcohol']=data['Alcohol'].replace({'Any type':'Any type'},regex=True)\n",
    "data['Alcohol']=data['Alcohol'].replace({'Any type type':'Any type'},regex=True)\n",
    "data['Alcohol']=data['Alcohol'].replace({'OT':'O.T'},regex=True)\n",
    "data['Alcohol']=data['Alcohol'].replace({'O T':'O.T'},regex=True)\n",
    "\n"
   ]
  },
  {
   "cell_type": "code",
   "execution_count": 41,
   "id": "a29f57d3",
   "metadata": {},
   "outputs": [
    {
     "data": {
      "text/plain": [
       "Whisky          31\n",
       "Any             11\n",
       "B.P              7\n",
       "Choice           6\n",
       "Any type         6\n",
       "O.T              4\n",
       "Brandy           4\n",
       "Beer             2\n",
       "Rum              2\n",
       "Local Brandy     1\n",
       "MC Whisky        1\n",
       "M.H Brandy       1\n",
       "M.C              1\n",
       "Chills           1\n",
       "B.P, O.T         1\n",
       "M.C\\nO.C         1\n",
       "OC, Whisky       1\n",
       "Admiral          1\n",
       "BP Whiskey       1\n",
       "Orley            1\n",
       "O.C              1\n",
       "MC/BP            1\n",
       "M.C.B            1\n",
       "Vodka            1\n",
       "M H              1\n",
       "Name: Alcohol, dtype: int64"
      ]
     },
     "execution_count": 41,
     "metadata": {},
     "output_type": "execute_result"
    }
   ],
   "source": [
    "count=data['Alcohol'].value_counts()\n",
    "count\n"
   ]
  },
  {
   "cell_type": "code",
   "execution_count": 42,
   "id": "ed93c520",
   "metadata": {},
   "outputs": [
    {
     "data": {
      "text/plain": [
       "Willing       69\n",
       "Ambivalent    14\n",
       "UnWilling      6\n",
       "Name: Willingness for treatment, dtype: int64"
      ]
     },
     "execution_count": 42,
     "metadata": {},
     "output_type": "execute_result"
    }
   ],
   "source": [
    "data['Willingness for treatment']=data['Willingness for treatment'].replace({'willing':'Willing'},regex=True)\n",
    "count=data['Willingness for treatment'].value_counts()\n",
    "count\n"
   ]
  },
  {
   "cell_type": "code",
   "execution_count": 43,
   "id": "a13caed5",
   "metadata": {},
   "outputs": [
    {
     "data": {
      "text/plain": [
       "No                  21\n",
       "-                   18\n",
       "Gutka               10\n",
       "Cigerate             9\n",
       "Beedi                8\n",
       "Vimal                5\n",
       "Cigarate             3\n",
       "Tambaku              2\n",
       "Madu                 2\n",
       "Madhu                2\n",
       "Cigerate\\nVimal      1\n",
       "King Cigarate        1\n",
       "Chewing              1\n",
       "R.M.D                1\n",
       "Beedi,Cigaratte      1\n",
       "Tambacco             1\n",
       "Leaf nut tobacco     1\n",
       "Cigratte/Gutka       1\n",
       "Beedi,Cigratte       1\n",
       "Name: smoking/smokeless, dtype: int64"
      ]
     },
     "execution_count": 43,
     "metadata": {},
     "output_type": "execute_result"
    }
   ],
   "source": [
    "count=data['smoking/smokeless'].value_counts()\n",
    "count"
   ]
  },
  {
   "cell_type": "code",
   "execution_count": 44,
   "id": "daa5e1c2",
   "metadata": {},
   "outputs": [],
   "source": [
    "data['smoking/smokeless']=data['smoking/smokeless'].replace({'Tambacco':'Tambaku'},regex=True)\n",
    "data['smoking/smokeless']=data['smoking/smokeless'].replace({'Cigerate':'Cigarette'},regex=True)\n",
    "data['smoking/smokeless']=data['smoking/smokeless'].replace({'Cigarate':'Cigarette'},regex=True)\n",
    "data['smoking/smokeless']=data['smoking/smokeless'].replace({'Madu':'Madhu'},regex=True)\n",
    "data['smoking/smokeless']=data['smoking/smokeless'].replace({'Cigarette\\nVimal':'Cigarette/Vimal'},regex=True)"
   ]
  },
  {
   "cell_type": "code",
   "execution_count": 45,
   "id": "31eec264",
   "metadata": {},
   "outputs": [
    {
     "data": {
      "text/plain": [
       "No                  21\n",
       "-                   18\n",
       "Cigarette           12\n",
       "Gutka               10\n",
       "Beedi                8\n",
       "Vimal                5\n",
       "Madhu                4\n",
       "Tambaku              3\n",
       "King Cigarette       1\n",
       "Cigratte/Gutka       1\n",
       "Leaf nut tobacco     1\n",
       "Beedi,Cigaratte      1\n",
       "R.M.D                1\n",
       "Chewing              1\n",
       "Cigarette/Vimal      1\n",
       "Beedi,Cigratte       1\n",
       "Name: smoking/smokeless, dtype: int64"
      ]
     },
     "execution_count": 45,
     "metadata": {},
     "output_type": "execute_result"
    }
   ],
   "source": [
    "count=data['smoking/smokeless'].value_counts()\n",
    "count"
   ]
  },
  {
   "cell_type": "code",
   "execution_count": 47,
   "id": "ffec4fba",
   "metadata": {},
   "outputs": [
    {
     "data": {
      "text/plain": [
       "S.S.L.C                18\n",
       "PUC                    11\n",
       "7th                     9\n",
       "10th                    7\n",
       "P.U.C                   6\n",
       "B.Com                   5\n",
       "9th                     4\n",
       "5th                     4\n",
       "Diploma                 3\n",
       "4th                     3\n",
       "B.A                     3\n",
       "B.E                     2\n",
       "6th                     2\n",
       "ITI                     2\n",
       "-                       1\n",
       "B.Sc Nursing            1\n",
       "BE                      1\n",
       "B.Sc                    1\n",
       "2nd                     1\n",
       "L.L.B                   1\n",
       "IIPUC                   1\n",
       "Diploma Engineering     1\n",
       "M.B.A                   1\n",
       "No                      1\n",
       "Name: Education in year, dtype: int64"
      ]
     },
     "execution_count": 47,
     "metadata": {},
     "output_type": "execute_result"
    }
   ],
   "source": [
    "count=data['Education in year'].value_counts()\n",
    "count"
   ]
  },
  {
   "cell_type": "code",
   "execution_count": 48,
   "id": "164bf362",
   "metadata": {},
   "outputs": [],
   "source": [
    "data['Education in year']=data['Education in year'].replace({'P.U.C':'PUC'},regex=True)\n",
    "data['Education in year']=data['Education in year'].replace({'S.S.L.C':'10th'},regex=True)\n",
    "data['Education in year']=data['Education in year'].replace({'B.E':'BE'},regex=True)\n",
    "data['Education in year']=data['Education in year'].replace({'IIPUC':'PUC'},regex=True)"
   ]
  },
  {
   "cell_type": "code",
   "execution_count": 49,
   "id": "fc50ceca",
   "metadata": {},
   "outputs": [
    {
     "data": {
      "text/plain": [
       "10th                   25\n",
       "PUC                    18\n",
       "7th                     9\n",
       "B.Com                   5\n",
       "9th                     4\n",
       "5th                     4\n",
       "BE                      3\n",
       "B.A                     3\n",
       "4th                     3\n",
       "Diploma                 3\n",
       "6th                     2\n",
       "ITI                     2\n",
       "B.Sc Nursing            1\n",
       "-                       1\n",
       "B.Sc                    1\n",
       "2nd                     1\n",
       "L.L.B                   1\n",
       "Diploma Engineering     1\n",
       "M.B.A                   1\n",
       "No                      1\n",
       "Name: Education in year, dtype: int64"
      ]
     },
     "execution_count": 49,
     "metadata": {},
     "output_type": "execute_result"
    }
   ],
   "source": [
    "count=data['Education in year'].value_counts()\n",
    "count"
   ]
  },
  {
   "cell_type": "code",
   "execution_count": 50,
   "id": "9fa50f8d",
   "metadata": {},
   "outputs": [
    {
     "data": {
      "text/plain": [
       "43"
      ]
     },
     "execution_count": 50,
     "metadata": {},
     "output_type": "execute_result"
    }
   ],
   "source": [
    "no_past=sum(data['Medical Problem experienced(Past )']=='No')\n",
    "no_past"
   ]
  },
  {
   "cell_type": "code",
   "execution_count": 51,
   "id": "728fa182",
   "metadata": {},
   "outputs": [
    {
     "data": {
      "text/plain": [
       "46"
      ]
     },
     "execution_count": 51,
     "metadata": {},
     "output_type": "execute_result"
    }
   ],
   "source": [
    "yes_past=sum(data['Medical Problem experienced(Past )']!='No')\n",
    "yes_past"
   ]
  },
  {
   "cell_type": "code",
   "execution_count": 52,
   "id": "fb3937e0",
   "metadata": {},
   "outputs": [
    {
     "data": {
      "text/plain": [
       "24"
      ]
     },
     "execution_count": 52,
     "metadata": {},
     "output_type": "execute_result"
    }
   ],
   "source": [
    "yes_present=sum(data['Medical Problem experienced(Present)']!='No')\n",
    "yes_present"
   ]
  },
  {
   "cell_type": "code",
   "execution_count": 53,
   "id": "dc49ce6e",
   "metadata": {},
   "outputs": [
    {
     "data": {
      "text/plain": [
       "65"
      ]
     },
     "execution_count": 53,
     "metadata": {},
     "output_type": "execute_result"
    }
   ],
   "source": [
    "no_present=sum(data['Medical Problem experienced(Present)']=='No')\n",
    "no_present"
   ]
  },
  {
   "cell_type": "code",
   "execution_count": 54,
   "id": "85f5d735",
   "metadata": {},
   "outputs": [
    {
     "data": {
      "text/plain": [
       "Text(0.5, 1.0, 'Variation in the counts of health problems experienced by patients in past and present')"
      ]
     },
     "execution_count": 54,
     "metadata": {},
     "output_type": "execute_result"
    },
    {
     "data": {
      "image/png": "[encoded data removed]",
      "text/plain": [
       "<Figure size 432x288 with 1 Axes>"
      ]
     },
     "metadata": {
      "needs_background": "light"
     },
     "output_type": "display_data"
    }
   ],
   "source": [
    "X=['Past', 'Present']\n",
    "yes=[yes_past, yes_present]\n",
    "no=[no_past, no_present]\n",
    "\n",
    "X_axis=np.arange(len(X))\n",
    "\n",
    "plt.bar(X_axis-0.2, yes, 0.4, label=\"YES\")\n",
    "plt.bar(X_axis+0.2, no, 0.4, label=\"NO\")\n",
    "\n",
    "plt.xticks(X_axis, X)\n",
    "plt.legend()\n",
    "plt.xlabel(\"Medical Problem Experienced\")\n",
    "plt.ylabel(\"No. of YES and NO counts\")\n",
    "plt.title(\"Variation in the counts of health problems experienced by patients in past and present\")\n",
    "#X_axis"
   ]
  },
  {
   "cell_type": "code",
   "execution_count": 55,
   "id": "8f2abb20",
   "metadata": {},
   "outputs": [
    {
     "data": {
      "text/plain": [
       "['33 ',\n",
       " '8 ',\n",
       " '19 ',\n",
       " '26',\n",
       " '12',\n",
       " '8',\n",
       " '31',\n",
       " '6',\n",
       " '5',\n",
       " '23',\n",
       " '12',\n",
       " '20',\n",
       " '25 ',\n",
       " '9 ',\n",
       " '20 ',\n",
       " '12 ',\n",
       " '7 ',\n",
       " '18 ',\n",
       " '5 ',\n",
       " '20 ',\n",
       " '24 ',\n",
       " '8 ',\n",
       " '24 ',\n",
       " '17 ',\n",
       " '21 ',\n",
       " '20 ',\n",
       " '19 ',\n",
       " '20 ',\n",
       " '16 ',\n",
       " '12 ',\n",
       " '5 ',\n",
       " '12 ',\n",
       " '15 ',\n",
       " '14 ',\n",
       " '7 ',\n",
       " '15 ',\n",
       " '18 ',\n",
       " '20 ',\n",
       " '20 ',\n",
       " '17 ',\n",
       " '7 ',\n",
       " '6 ',\n",
       " '11 ',\n",
       " '30 ',\n",
       " '26 ',\n",
       " '17',\n",
       " '15',\n",
       " '10',\n",
       " '8 ',\n",
       " '1',\n",
       " '5',\n",
       " '25',\n",
       " '27',\n",
       " '20 ',\n",
       " '9 ',\n",
       " '23 ',\n",
       " '18 ',\n",
       " '12 ',\n",
       " '12 ',\n",
       " '6 ',\n",
       " '7 ',\n",
       " '19 ',\n",
       " '25 ',\n",
       " '29 ',\n",
       " '10 ',\n",
       " '5 ',\n",
       " '15 ',\n",
       " '10 ',\n",
       " '10 ',\n",
       " '13 ',\n",
       " '15 ',\n",
       " '31 ',\n",
       " '16 ',\n",
       " '13 ',\n",
       " '8 ',\n",
       " '36 ',\n",
       " '22 ',\n",
       " '24 ',\n",
       " '26 ',\n",
       " '25 ',\n",
       " '12 ',\n",
       " '17 ',\n",
       " '15 ',\n",
       " '20 ',\n",
       " '15 ',\n",
       " '1 ',\n",
       " '5 ',\n",
       " '30',\n",
       " '12']"
      ]
     },
     "execution_count": 55,
     "metadata": {},
     "output_type": "execute_result"
    }
   ],
   "source": [
    "list2=data['duration of use of alcohol'].to_list()\n",
    "    \n",
    "for i in range(len(list2)):\n",
    "    list2[i]=list2[i].removesuffix('years')\n",
    "for i in range(len(list2)):\n",
    "    list2[i]=list2[i].removesuffix('year')\n",
    "for i in range(len(list2)):\n",
    "    list2[i]=list2[i].removesuffix('Year')\n",
    "for i in range(len(list2)):\n",
    "    list2[i]=list2[i].removesuffix('Y ')\n",
    "for i in range(len(list2)):\n",
    "    list2[i]=list2[i].removesuffix('Years')\n",
    "\n",
    "list2"
   ]
  },
  {
   "cell_type": "code",
   "execution_count": 56,
   "id": "9d92687a",
   "metadata": {},
   "outputs": [
    {
     "name": "stdout",
     "output_type": "stream",
     "text": [
      "[33, 8, 19, 26, 12, 8, 31, 6, 5, 23, 12, 20, 25, 9, 20, 12, 7, 18, 5, 20, 24, 8, 24, 17, 21, 20, 19, 20, 16, 12, 5, 12, 15, 14, 7, 15, 18, 20, 20, 17, 7, 6, 11, 30, 26, 17, 15, 10, 8, 1, 5, 25, 27, 20, 9, 23, 18, 12, 12, 6, 7, 19, 25, 29, 10, 5, 15, 10, 10, 13, 15, 31, 16, 13, 8, 36, 22, 24, 26, 25, 12, 17, 15, 20, 15, 1, 5, 30, 12]\n"
     ]
    }
   ],
   "source": [
    "list2=[int(i) for i in list2]\n",
    "print(list2)"
   ]
  },
  {
   "cell_type": "code",
   "execution_count": 57,
   "id": "abea1fa2",
   "metadata": {},
   "outputs": [
    {
     "data": {
      "text/plain": [
       "0     33\n",
       "1      8\n",
       "2     19\n",
       "3     26\n",
       "4     12\n",
       "      ..\n",
       "84    15\n",
       "85     1\n",
       "86     5\n",
       "87    30\n",
       "88    12\n",
       "Name: duration of use of alcohol, Length: 89, dtype: int64"
      ]
     },
     "execution_count": 57,
     "metadata": {},
     "output_type": "execute_result"
    }
   ],
   "source": [
    "data.loc[:,'duration of use of alcohol']=list2\n",
    "data['duration of use of alcohol']"
   ]
  },
  {
   "cell_type": "code",
   "execution_count": 58,
   "id": "cfee9e21",
   "metadata": {},
   "outputs": [
    {
     "data": {
      "text/plain": [
       "<AxesSubplot:xlabel='Age Group', ylabel='duration of use of alcohol'>"
      ]
     },
     "execution_count": 58,
     "metadata": {},
     "output_type": "execute_result"
    },
    {
     "data": {
      "image/png": "[encoded data removed]",
      "text/plain": [
       "<Figure size 432x288 with 1 Axes>"
      ]
     },
     "metadata": {
      "needs_background": "light"
     },
     "output_type": "display_data"
    }
   ],
   "source": [
    "sns.scatterplot(x='Age Group',y='duration of use of alcohol',hue='duration of use of alcohol',legend='brief',data=data)"
   ]
  },
  {
   "cell_type": "code",
   "execution_count": 14,
   "id": "8fad4320",
   "metadata": {},
   "outputs": [
    {
     "data": {
      "text/plain": [
       "0     360 \n",
       "1      540\n",
       "2      720\n",
       "3      720\n",
       "4      360\n",
       "      ... \n",
       "84     360\n",
       "85     720\n",
       "86     540\n",
       "87     720\n",
       "88     360\n",
       "Name: avarage units used in last 30days, Length: 89, dtype: object"
      ]
     },
     "execution_count": 14,
     "metadata": {},
     "output_type": "execute_result"
    }
   ],
   "source": [
    "avg_units=data['avarage units used in last 30days'].str.replace(\"ml\",\"\")\n",
    "avg_units"
   ]
  },
  {
   "cell_type": "code",
   "execution_count": 16,
   "id": "f7f4bb9b",
   "metadata": {},
   "outputs": [
    {
     "data": {
      "text/plain": [
       "0     360\n",
       "1     540\n",
       "2     720\n",
       "3     720\n",
       "4     360\n",
       "     ... \n",
       "84    360\n",
       "85    720\n",
       "86    540\n",
       "87    720\n",
       "88    360\n",
       "Name: avarage units used in last 30days, Length: 89, dtype: int32"
      ]
     },
     "execution_count": 16,
     "metadata": {},
     "output_type": "execute_result"
    }
   ],
   "source": [
    "avg_units=avg_units.astype(int)\n",
    "avg_units"
   ]
  },
  {
   "cell_type": "code",
   "execution_count": 24,
   "id": "405126fc",
   "metadata": {},
   "outputs": [
    {
     "data": {
      "text/plain": [
       "[23,\n",
       " 25,\n",
       " 25,\n",
       " 26,\n",
       " 26,\n",
       " 27,\n",
       " 27,\n",
       " 28,\n",
       " 29,\n",
       " 30,\n",
       " 30,\n",
       " 30,\n",
       " 31,\n",
       " 31,\n",
       " 32,\n",
       " 32,\n",
       " 33,\n",
       " 33,\n",
       " 33,\n",
       " 33,\n",
       " 33,\n",
       " 33,\n",
       " 34,\n",
       " 34,\n",
       " 34,\n",
       " 34,\n",
       " 35,\n",
       " 35,\n",
       " 36,\n",
       " 36,\n",
       " 36,\n",
       " 36,\n",
       " 37,\n",
       " 37,\n",
       " 37,\n",
       " 37,\n",
       " 38,\n",
       " 38,\n",
       " 38,\n",
       " 38,\n",
       " 38,\n",
       " 39,\n",
       " 39,\n",
       " 39,\n",
       " 40,\n",
       " 40,\n",
       " 40,\n",
       " 40,\n",
       " 41,\n",
       " 41,\n",
       " 41,\n",
       " 41,\n",
       " 41,\n",
       " 41,\n",
       " 42,\n",
       " 42,\n",
       " 42,\n",
       " 42,\n",
       " 42,\n",
       " 43,\n",
       " 43,\n",
       " 43,\n",
       " 44,\n",
       " 44,\n",
       " 45,\n",
       " 45,\n",
       " 45,\n",
       " 45,\n",
       " 46,\n",
       " 46,\n",
       " 46,\n",
       " 46,\n",
       " 47,\n",
       " 47,\n",
       " 47,\n",
       " 48,\n",
       " 48,\n",
       " 49,\n",
       " 49,\n",
       " 50,\n",
       " 50,\n",
       " 50,\n",
       " 53,\n",
       " 53,\n",
       " 53,\n",
       " 56,\n",
       " 59,\n",
       " 61,\n",
       " 62]"
      ]
     },
     "execution_count": 24,
     "metadata": {},
     "output_type": "execute_result"
    }
   ],
   "source": [
    "age=data[\"Age\"].to_list()\n",
    "age.sort()\n",
    "age"
   ]
  },
  {
   "cell_type": "code",
   "execution_count": 28,
   "id": "3a545b55",
   "metadata": {},
   "outputs": [
    {
     "data": {
      "text/plain": [
       "0     540\n",
       "1      90\n",
       "2      90\n",
       "3     270\n",
       "4     180\n",
       "     ... \n",
       "84    180\n",
       "85    720\n",
       "86    750\n",
       "87    360\n",
       "88    360\n",
       "Name: quantity of last drink, Length: 89, dtype: int32"
      ]
     },
     "execution_count": 28,
     "metadata": {},
     "output_type": "execute_result"
    }
   ],
   "source": [
    "last_drink=data['quantity of last drink'].str.replace(\"ml\",\"\")\n",
    "last_drink\n",
    "last_drink=last_drink.astype(int)\n",
    "last_drink"
   ]
  },
  {
   "cell_type": "code",
   "execution_count": 33,
   "id": "67156ccd",
   "metadata": {},
   "outputs": [
    {
     "name": "stderr",
     "output_type": "stream",
     "text": [
      "C:\\Users\\Soumya\\anaconda3\\lib\\site-packages\\seaborn\\_decorators.py:36: FutureWarning: Pass the following variables as keyword args: x, y. From version 0.12, the only valid positional argument will be `data`, and passing other arguments without an explicit keyword will result in an error or misinterpretation.\n",
      "  warnings.warn(\n",
      "C:\\Users\\Soumya\\anaconda3\\lib\\site-packages\\seaborn\\_decorators.py:36: FutureWarning: Pass the following variables as keyword args: x, y. From version 0.12, the only valid positional argument will be `data`, and passing other arguments without an explicit keyword will result in an error or misinterpretation.\n",
      "  warnings.warn(\n"
     ]
    },
    {
     "data": {
      "text/plain": [
       "Text(0.5, 0, 'Age')"
      ]
     },
     "execution_count": 33,
     "metadata": {},
     "output_type": "execute_result"
    },
    {
     "data": {
      "image/png": "[encoded data removed]",
      "text/plain": [
       "<Figure size 432x288 with 1 Axes>"
      ]
     },
     "metadata": {
      "needs_background": "light"
     },
     "output_type": "display_data"
    }
   ],
   "source": [
    "sns.lineplot(age,avg_units,label=\"avarage units used in last 30days\")\n",
    "sns.lineplot(age,last_drink,label=\"quantity of last drink\")\n",
    "plt.ylabel(\"Units of alcohol consumed in ml\",fontsize=15)\n",
    "plt.xlabel(\"Age\",fontsize=15)"
   ]
  },
  {
   "cell_type": "code",
   "execution_count": 40,
   "id": "f469bf92",
   "metadata": {},
   "outputs": [
    {
     "data": {
      "text/plain": [
       "0          27\n",
       "1          19\n",
       "2          24\n",
       "3      10year\n",
       "4      20year\n",
       "       ...   \n",
       "84    30 Year\n",
       "85    12 Year\n",
       "86          -\n",
       "87     19year\n",
       "88     19year\n",
       "Name: At what age did you start working?, Length: 89, dtype: object"
      ]
     },
     "execution_count": 40,
     "metadata": {},
     "output_type": "execute_result"
    }
   ],
   "source": [
    "data['At what age did you start working?']"
   ]
  },
  {
   "cell_type": "code",
   "execution_count": 36,
   "id": "4deca972",
   "metadata": {},
   "outputs": [
    {
     "data": {
      "text/plain": [
       "16 Year    13\n",
       "18 Year    10\n",
       "15 Year     7\n",
       "17 Year     4\n",
       "20year      3\n",
       "20 Year     3\n",
       "12 Year     3\n",
       "14 Year     3\n",
       "30 Year     2\n",
       "17          2\n",
       "19 Year     2\n",
       "13 year     2\n",
       "23 Year     2\n",
       "19year      2\n",
       "21 Year     2\n",
       "16year      2\n",
       "23year      2\n",
       "18year      2\n",
       "22year      1\n",
       "-           1\n",
       "11 Year     1\n",
       "24          1\n",
       "20          1\n",
       "13          1\n",
       "15          1\n",
       "18          1\n",
       "10year      1\n",
       "28year      1\n",
       "23 ys       1\n",
       "12year      1\n",
       "22 Year     1\n",
       "15year      1\n",
       "25 Year     1\n",
       "27 Year     1\n",
       "10 Year     1\n",
       "19          1\n",
       "21years     1\n",
       "17year      1\n",
       "24 Year     1\n",
       "13 Year     1\n",
       "27          1\n",
       "Name: At what age did you start working?, dtype: int64"
      ]
     },
     "execution_count": 36,
     "metadata": {},
     "output_type": "execute_result"
    }
   ],
   "source": [
    "count=data[\"At what age did you start working?\"].value_counts()\n",
    "count"
   ]
  },
  {
   "cell_type": "code",
   "execution_count": 126,
   "id": "8baaadf8",
   "metadata": {},
   "outputs": [],
   "source": [
    "work=data['At what age did you start working?'].replace({'year':\"\"},regex=True)\n",
    "work=work.replace({'Year':\"\"},regex=True)\n",
    "work=work.replace({'s':\"\"},regex=True)\n",
    "work=work.replace({'ys':\"\"},regex=True)\n",
    "work=work.replace({'y':\"\"},regex=True)\n",
    "work=work.replace({'-':\"0\"},regex=True)"
   ]
  },
  {
   "cell_type": "code",
   "execution_count": 129,
   "id": "d3526f7d",
   "metadata": {},
   "outputs": [
    {
     "data": {
      "text/plain": [
       "16     13\n",
       "18     10\n",
       "15      7\n",
       "17      4\n",
       "23      3\n",
       "20      3\n",
       "20      3\n",
       "12      3\n",
       "13      3\n",
       "14      3\n",
       "17      2\n",
       "19      2\n",
       "30      2\n",
       "19      2\n",
       "21      2\n",
       "16      2\n",
       "23      2\n",
       "18      2\n",
       "22      1\n",
       "0       1\n",
       "11      1\n",
       "24      1\n",
       "20      1\n",
       "13      1\n",
       "15      1\n",
       "18      1\n",
       "10      1\n",
       "28      1\n",
       "15      1\n",
       "12      1\n",
       "22      1\n",
       "25      1\n",
       "27      1\n",
       "10      1\n",
       "19      1\n",
       "21      1\n",
       "17      1\n",
       "24      1\n",
       "27      1\n",
       "Name: At what age did you start working?, dtype: int64"
      ]
     },
     "execution_count": 129,
     "metadata": {},
     "output_type": "execute_result"
    }
   ],
   "source": [
    "work.value_counts()"
   ]
  },
  {
   "cell_type": "code",
   "execution_count": 130,
   "id": "e4221c9b",
   "metadata": {},
   "outputs": [],
   "source": [
    "work=work.astype(int)"
   ]
  },
  {
   "cell_type": "code",
   "execution_count": 131,
   "id": "e3892090",
   "metadata": {},
   "outputs": [
    {
     "name": "stderr",
     "output_type": "stream",
     "text": [
      "C:\\Users\\Soumya\\AppData\\Local\\Temp/ipykernel_10632/4041968345.py:1: FutureWarning: The default value of regex will change from True to False in a future version.\n",
      "  data['AAO for alcohol in year']=data['AAO for alcohol in year'].str.replace(\"[Year,year,s]\",\"\")\n"
     ]
    },
    {
     "data": {
      "text/plain": [
       "0     20\n",
       "1     23\n",
       "2     18\n",
       "3     12\n",
       "4     30\n",
       "      ..\n",
       "84    25\n",
       "85    20\n",
       "86     0\n",
       "87    23\n",
       "88    24\n",
       "Name: AAO for alcohol in year, Length: 89, dtype: int32"
      ]
     },
     "execution_count": 131,
     "metadata": {},
     "output_type": "execute_result"
    }
   ],
   "source": [
    "data['AAO for alcohol in year']=data['AAO for alcohol in year'].str.replace(\"[Year,year,s]\",\"\")\n",
    "l=data['AAO for alcohol in year'].fillna(0)\n",
    "l=l.astype(int)\n",
    "l"
   ]
  },
  {
   "cell_type": "code",
   "execution_count": 132,
   "id": "af6d02df",
   "metadata": {},
   "outputs": [
    {
     "name": "stderr",
     "output_type": "stream",
     "text": [
      "C:\\Users\\Soumya\\anaconda3\\lib\\site-packages\\seaborn\\_decorators.py:36: FutureWarning: Pass the following variables as keyword args: x, y. From version 0.12, the only valid positional argument will be `data`, and passing other arguments without an explicit keyword will result in an error or misinterpretation.\n",
      "  warnings.warn(\n",
      "C:\\Users\\Soumya\\anaconda3\\lib\\site-packages\\seaborn\\_decorators.py:36: FutureWarning: Pass the following variables as keyword args: x, y. From version 0.12, the only valid positional argument will be `data`, and passing other arguments without an explicit keyword will result in an error or misinterpretation.\n",
      "  warnings.warn(\n"
     ]
    },
    {
     "data": {
      "text/plain": [
       "Text(0.5, 0, 'Age--->')"
      ]
     },
     "execution_count": 132,
     "metadata": {},
     "output_type": "execute_result"
    },
    {
     "data": {
      "image/png": "[encoded data removed]",
      "text/plain": [
       "<Figure size 432x288 with 1 Axes>"
      ]
     },
     "metadata": {
      "needs_background": "light"
     },
     "output_type": "display_data"
    }
   ],
   "source": [
    "sns.lineplot(age,work,label=\"Age at which person started working\",color='red')\n",
    "sns.lineplot(age,l,label=\"Age at which person started drinking\",color='green')\n",
    "plt.ylabel(\"Age in year--->\",fontsize=15)\n",
    "plt.xlabel(\"Age--->\",fontsize=15)"
   ]
  },
  {
   "cell_type": "code",
   "execution_count": null,
   "id": "738eed15",
   "metadata": {},
   "outputs": [],
   "source": []
  }
 ],
 "metadata": {
  "kernelspec": {
   "display_name": "Python 3 (ipykernel)",
   "language": "python",
   "name": "python3"
  },
  "language_info": {
   "codemirror_mode": {
    "name": "ipython",
    "version": 3
   },
   "file_extension": ".py",
   "mimetype": "text/x-python",
   "name": "python",
   "nbconvert_exporter": "python",
   "pygments_lexer": "ipython3",
   "version": "3.9.7"
  }
 },
 "nbformat": 4,
 "nbformat_minor": 5
}
